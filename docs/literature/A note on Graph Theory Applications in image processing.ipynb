{
 "cells": [
  {
   "cell_type": "markdown",
   "metadata": {},
   "source": [
    "# A Note on GRaph THeory Applications in Image Processing: Flood Fill, Image Segmentation, Pallette Generation\n",
    "source: https://medium.com/geekculture/a-note-on-graph-theory-applications-in-image-processing-flood-fill-image-segmentation-palette-68a7957aed8c"
   ]
  },
  {
   "cell_type": "markdown",
   "metadata": {},
   "source": [
    "## Flood Fill\n",
    "1. flood fill is an algorithm that looks for nodes that are connected to the start node and finds a path by which to change the target color\n",
    "2. can be modeled as a graph traversal, representing the given image as a matrix and considering every pixel as a vertex that connects to pixels around it (8 connectedness)"
   ]
  },
  {
   "cell_type": "code",
   "execution_count": 2,
   "metadata": {},
   "outputs": [],
   "source": [
    "from collections import deque\n",
    "\n",
    "def find_path_dfs_iter(self, start_id, target_id):\n",
    "    \"\"\"\n",
    "    Use DFS with a stack to find a path from start_id to target_id.\n",
    "    \"\"\"\n",
    "\n",
    "    if not self.contains_id(start_id) or not self.contains_id(target_id):\n",
    "        raise KeyError(\"One or both vertices are not in the graph!\")\n",
    "\n",
    "\n",
    "    # stack of vertices to visit next\n",
    "    stack = deque()\n",
    "    stack.append(self.get_vertex(start_id))\n",
    "\n",
    "    # vertex keys we've seen before and their paths from the start vertex\n",
    "    path_to_target = {\n",
    "        start_id: [start_id]\n",
    "    }\n",
    "\n",
    "    # while stack is not empty\n",
    "    while stack:\n",
    "        current_vertex_obj = stack.pop() # vertex obj to visit next\n",
    "        current_vertex_id = current_vertex_obj.get_id()\n",
    "\n",
    "        # found target, can stop the loop early\n",
    "        if current_vertex_id == target_id:\n",
    "            break\n",
    "\n",
    "        neighbors = current_vertex_obj.get_neighbors()\n",
    "        for neighbor in neighbors:\n",
    "            if neighbor.get_id() not in path_to_target:\n",
    "                stack.append(neighbor)\n",
    "                # print(vertex_id_to_path)\n",
    "\n",
    "                current_path = path_to_target[current_vertex_id]\n",
    "                # extend the path by 1 vertex\n",
    "                next_path = current_path + [neighbor.get_id()]\n",
    "                path_to_target[neighbor.get_id()] = next_path\n",
    "\n",
    "    if target_id not in path_to_target: # path not found\n",
    "        return None\n",
    "\n",
    "    return path_to_target[target_id]"
   ]
  },
  {
   "cell_type": "markdown",
   "metadata": {},
   "source": [
    "## Image Segmentation\n",
    "1. Felzenswalb segmentation method based on minimum spanning tree\n",
    "2. edges are considered in increasing order of weight\n",
    "    * endpoints merged into a region if this doesn't cause a cycle in the graph and also based on simialrity\n",
    "    * pixel similarity judged via heuristic\n",
    "\n",
    "source: https://sandipanweb.wordpress.com/2018/02/25/graph-based-image-segmentation-in-python/\n"
   ]
  },
  {
   "cell_type": "code",
   "execution_count": 3,
   "metadata": {},
   "outputs": [],
   "source": [
    "def minimum_spanning_tree_kruskal(self):\n",
    "  \"\"\"\n",
    "  Use Kruskal's Algorithm to return a list of edges, as tuples of \n",
    "  (start_id, dest_id, weight) in the graph's minimum spanning tree.\n",
    "  \"\"\"\n",
    "  # Create a list of all edges in the graph, sort them by weight\n",
    "  # from smallest to largest\n",
    "  edges = []\n",
    "  for vertex in self.get_vertices():\n",
    "      # print(vertex.get_neighbors_with_weights())\n",
    "      for neighbor, weight in vertex.get_neighbors_with_weights():\n",
    "          edges.append((vertex.get_id(), neighbor.get_id(), weight))\n",
    "  edges = sorted(edges, key=lambda x: x[2])\n",
    "\n",
    "  # Create a dictionary `parent_map` to map vertex -> its \"parent\". \n",
    "  # Initialize it so that each vertex is its own parent.\n",
    "  parent_map = {x[0]:x[0] for x in edges}\n",
    "\n",
    "  # Create an empty list to hold the solution (i.e. all edges in the final spanning tree)\n",
    "  spanning_tree = []\n",
    "\n",
    "  # While the spanning tree holds < V-1 edges, \n",
    "  while len(spanning_tree) <= len(edges)-1:\n",
    "      # get the smallest edge. \n",
    "      current = edges.pop(0)\n",
    "      (vertex1, vertex2, weight) = current\n",
    "      # If the two vertices connected by the edge are in different sets \n",
    "      # (i.e. calling `find()` gets two different roots), then it will not create a cycle, \n",
    "      if self.find(parent_map, vertex1) != self.find(parent_map, vertex2):\n",
    "          # add it to the solution set and call `union()` on the two vertices.\n",
    "          spanning_tree.append(current)\n",
    "          self.union(parent_map, vertex1, vertex2)\n",
    "      else:\n",
    "          continue\n",
    "\n",
    "  # Return the solution list.\n",
    "  return spanning_tree"
   ]
  },
  {
   "cell_type": "markdown",
   "metadata": {},
   "source": [
    "# Color Quantization\n",
    "1. vertices contain information required by comparision heuristic, while edges indicate connected neighbors\n",
    "2. union-find data structure"
   ]
  },
  {
   "cell_type": "markdown",
   "metadata": {},
   "source": []
  }
 ],
 "metadata": {
  "kernelspec": {
   "display_name": "mastersthesis",
   "language": "python",
   "name": "python3"
  },
  "language_info": {
   "codemirror_mode": {
    "name": "ipython",
    "version": 3
   },
   "file_extension": ".py",
   "mimetype": "text/x-python",
   "name": "python",
   "nbconvert_exporter": "python",
   "pygments_lexer": "ipython3",
   "version": "3.10.12"
  },
  "orig_nbformat": 4
 },
 "nbformat": 4,
 "nbformat_minor": 2
}
