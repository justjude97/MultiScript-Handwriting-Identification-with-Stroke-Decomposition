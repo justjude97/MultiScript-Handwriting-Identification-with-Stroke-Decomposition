{
 "cells": [
  {
   "cell_type": "markdown",
   "metadata": {},
   "source": [
    "# Machine Learning Part\n",
    "* goal of this notebook is to develop code for the machine learning portion\n",
    "    * dataset loading\n",
    "    * model\n",
    "    * evaluation metrics\n",
    "* code should be added into qdanalysis and refactored aferwards"
   ]
  },
  {
   "cell_type": "code",
   "execution_count": 1,
   "metadata": {},
   "outputs": [
    {
     "name": "stderr",
     "output_type": "stream",
     "text": [
      "2024-02-15 02:49:05.450846: I tensorflow/core/util/port.cc:113] oneDNN custom operations are on. You may see slightly different numerical results due to floating-point round-off errors from different computation orders. To turn them off, set the environment variable `TF_ENABLE_ONEDNN_OPTS=0`.\n",
      "2024-02-15 02:49:05.481565: E external/local_xla/xla/stream_executor/cuda/cuda_dnn.cc:9261] Unable to register cuDNN factory: Attempting to register factory for plugin cuDNN when one has already been registered\n",
      "2024-02-15 02:49:05.481588: E external/local_xla/xla/stream_executor/cuda/cuda_fft.cc:607] Unable to register cuFFT factory: Attempting to register factory for plugin cuFFT when one has already been registered\n",
      "2024-02-15 02:49:05.482397: E external/local_xla/xla/stream_executor/cuda/cuda_blas.cc:1515] Unable to register cuBLAS factory: Attempting to register factory for plugin cuBLAS when one has already been registered\n",
      "2024-02-15 02:49:05.487501: I tensorflow/core/platform/cpu_feature_guard.cc:182] This TensorFlow binary is optimized to use available CPU instructions in performance-critical operations.\n",
      "To enable the following instructions: AVX2 AVX512F AVX512_VNNI FMA, in other operations, rebuild TensorFlow with the appropriate compiler flags.\n",
      "2024-02-15 02:49:06.119432: W tensorflow/compiler/tf2tensorrt/utils/py_utils.cc:38] TF-TRT Warning: Could not find TensorRT\n"
     ]
    }
   ],
   "source": [
    "import tensorflow as tf\n",
    "from tensorflow import keras\n",
    "\n",
    "from qdanalysis.models import adapt_resnet50\n",
    "\n",
    "import pathlib"
   ]
  },
  {
   "cell_type": "code",
   "execution_count": 2,
   "metadata": {},
   "outputs": [
    {
     "data": {
      "text/plain": [
       "[PhysicalDevice(name='/physical_device:GPU:0', device_type='GPU')]"
      ]
     },
     "execution_count": 2,
     "metadata": {},
     "output_type": "execute_result"
    }
   ],
   "source": [
    "tf.config.list_physical_devices('GPU')"
   ]
  },
  {
   "cell_type": "code",
   "execution_count": 3,
   "metadata": {},
   "outputs": [],
   "source": [
    "train_dir = './output/cerug_test_processing/CN'\n",
    "test_dir = './output/cerug_test_processing/EN'"
   ]
  },
  {
   "cell_type": "code",
   "execution_count": 4,
   "metadata": {},
   "outputs": [
    {
     "name": "stdout",
     "output_type": "stream",
     "text": [
      "Found 12345 files belonging to 3 classes.\n",
      "Using 9876 files for training.\n"
     ]
    },
    {
     "name": "stderr",
     "output_type": "stream",
     "text": [
      "2024-02-15 02:49:08.724779: I tensorflow/core/common_runtime/gpu/gpu_device.cc:1929] Created device /job:localhost/replica:0/task:0/device:GPU:0 with 21720 MB memory:  -> device: 0, name: NVIDIA TITAN RTX, pci bus id: 0000:65:00.0, compute capability: 7.5\n"
     ]
    }
   ],
   "source": [
    "label_mode = 'categorical'\n",
    "#shape image will be resized to (figure out ideal values later)\n",
    "input_shape = (128, 128, 3)\n",
    "seed = 42\n",
    "validation_split = 0.2\n",
    "\n",
    "#due to nature of data, the test and train splits are defined beforehand\n",
    "train_data = keras.preprocessing.image_dataset_from_directory(train_dir, \n",
    "                                                              label_mode=label_mode, \n",
    "                                                              image_size=input_shape[:2], \n",
    "                                                              seed=seed, \n",
    "                                                              validation_split=validation_split, \n",
    "                                                              subset='training')\n",
    "writer_classes = train_data.class_names"
   ]
  },
  {
   "cell_type": "code",
   "execution_count": 5,
   "metadata": {},
   "outputs": [
    {
     "data": {
      "text/plain": [
       "['Writer0101', 'Writer0202', 'Writer0303']"
      ]
     },
     "execution_count": 5,
     "metadata": {},
     "output_type": "execute_result"
    }
   ],
   "source": [
    "writer_classes"
   ]
  },
  {
   "cell_type": "code",
   "execution_count": 6,
   "metadata": {},
   "outputs": [
    {
     "name": "stdout",
     "output_type": "stream",
     "text": [
      "Found 12345 files belonging to 3 classes.\n",
      "Using 2469 files for validation.\n"
     ]
    }
   ],
   "source": [
    "validation_data = keras.preprocessing.image_dataset_from_directory(train_dir,\n",
    "                                                                   label_mode=label_mode,\n",
    "                                                                   image_size=input_shape[:2],\n",
    "                                                                   seed=seed,\n",
    "                                                                   validation_split=validation_split,\n",
    "                                                                   subset='validation')"
   ]
  },
  {
   "cell_type": "code",
   "execution_count": 7,
   "metadata": {},
   "outputs": [
    {
     "name": "stdout",
     "output_type": "stream",
     "text": [
      "Model: \"model\"\n",
      "_________________________________________________________________\n",
      " Layer (type)                Output Shape              Param #   \n",
      "=================================================================\n",
      " input_2 (InputLayer)        [(None, 128, 128, 3)]     0         \n",
      "                                                                 \n",
      " resnet50 (Functional)       (None, 4, 4, 2048)        23587712  \n",
      "                                                                 \n",
      " global_average_pooling2d (  (None, 2048)              0         \n",
      " GlobalAveragePooling2D)                                         \n",
      "                                                                 \n",
      " dense (Dense)               (None, 1000)              2049000   \n",
      "                                                                 \n",
      " dense_1 (Dense)             (None, 3)                 3003      \n",
      "                                                                 \n",
      "=================================================================\n",
      "Total params: 25639715 (97.81 MB)\n",
      "Trainable params: 2052003 (7.83 MB)\n",
      "Non-trainable params: 23587712 (89.98 MB)\n",
      "_________________________________________________________________\n"
     ]
    }
   ],
   "source": [
    "model = adapt_resnet50(input_shape, len(writer_classes))\n",
    "\n",
    "model.summary()"
   ]
  },
  {
   "cell_type": "code",
   "execution_count": 8,
   "metadata": {},
   "outputs": [],
   "source": [
    "# optimizer and loss taken from https://stackoverflow.com/questions/71704268/using-tf-keras-utils-image-dataset-from-directory-with-label-list\n",
    "optimizer = tf.keras.optimizers.Nadam(\n",
    "    learning_rate=0.00001, beta_1=0.9, beta_2=0.999, epsilon=1e-07,\n",
    "    name='Nadam'\n",
    ")\n",
    "\n",
    "lossfn = tf.keras.losses.CategoricalCrossentropy()\n",
    "\n",
    "metrics = [\n",
    "    keras.metrics.CategoricalAccuracy(),\n",
    "    keras.metrics.Precision(),\n",
    "    keras.metrics.Recall()\n",
    "]\n",
    "\n",
    "model.compile(optimizer=optimizer, loss=lossfn, metrics=metrics)"
   ]
  },
  {
   "cell_type": "code",
   "execution_count": 9,
   "metadata": {},
   "outputs": [
    {
     "name": "stdout",
     "output_type": "stream",
     "text": [
      "Epoch 1/10\n"
     ]
    },
    {
     "name": "stderr",
     "output_type": "stream",
     "text": [
      "2024-02-15 02:42:04.789773: I external/local_xla/xla/stream_executor/cuda/cuda_dnn.cc:454] Loaded cuDNN version 8904\n",
      "2024-02-15 02:42:05.871623: I external/local_xla/xla/service/service.cc:168] XLA service 0x9807f70 initialized for platform CUDA (this does not guarantee that XLA will be used). Devices:\n",
      "2024-02-15 02:42:05.871657: I external/local_xla/xla/service/service.cc:176]   StreamExecutor device (0): NVIDIA TITAN RTX, Compute Capability 7.5\n",
      "2024-02-15 02:42:05.887468: I tensorflow/compiler/mlir/tensorflow/utils/dump_mlir_util.cc:269] disabling MLIR crash reproducer, set env var `MLIR_CRASH_REPRODUCER_DIRECTORY` to enable.\n",
      "WARNING: All log messages before absl::InitializeLog() is called are written to STDERR\n",
      "I0000 00:00:1707993726.025951  322652 device_compiler.h:186] Compiled cluster using XLA!  This line is logged at most once for the lifetime of the process.\n"
     ]
    },
    {
     "name": "stdout",
     "output_type": "stream",
     "text": [
      "309/309 [==============================] - 12s 28ms/step - loss: 1.1000 - categorical_accuracy: 0.4184 - precision: 0.4694 - recall: 0.1882 - val_loss: 1.0395 - val_categorical_accuracy: 0.4500 - val_precision: 0.5548 - val_recall: 0.2175\n",
      "Epoch 2/10\n",
      "309/309 [==============================] - 7s 21ms/step - loss: 0.9973 - categorical_accuracy: 0.5042 - precision: 0.5981 - recall: 0.2729 - val_loss: 0.9968 - val_categorical_accuracy: 0.4953 - val_precision: 0.5893 - val_recall: 0.2714\n",
      "Epoch 3/10\n",
      "309/309 [==============================] - 7s 21ms/step - loss: 0.9546 - categorical_accuracy: 0.5398 - precision: 0.6337 - recall: 0.3169 - val_loss: 0.9696 - val_categorical_accuracy: 0.5233 - val_precision: 0.6173 - val_recall: 0.3038\n",
      "Epoch 4/10\n",
      "309/309 [==============================] - 7s 21ms/step - loss: 0.9232 - categorical_accuracy: 0.5650 - precision: 0.6609 - recall: 0.3500 - val_loss: 0.9541 - val_categorical_accuracy: 0.5379 - val_precision: 0.6279 - val_recall: 0.3260\n",
      "Epoch 5/10\n",
      "309/309 [==============================] - 7s 21ms/step - loss: 0.8991 - categorical_accuracy: 0.5853 - precision: 0.6780 - recall: 0.3784 - val_loss: 0.9389 - val_categorical_accuracy: 0.5435 - val_precision: 0.6457 - val_recall: 0.3491\n",
      "Epoch 6/10\n",
      "309/309 [==============================] - 6s 21ms/step - loss: 0.8793 - categorical_accuracy: 0.5962 - precision: 0.6954 - recall: 0.3966 - val_loss: 0.9272 - val_categorical_accuracy: 0.5496 - val_precision: 0.6541 - val_recall: 0.3661\n",
      "Epoch 7/10\n",
      "309/309 [==============================] - 7s 21ms/step - loss: 0.8602 - categorical_accuracy: 0.6123 - precision: 0.7115 - recall: 0.4150 - val_loss: 0.9181 - val_categorical_accuracy: 0.5626 - val_precision: 0.6615 - val_recall: 0.3783\n",
      "Epoch 8/10\n",
      "309/309 [==============================] - 7s 21ms/step - loss: 0.8439 - categorical_accuracy: 0.6168 - precision: 0.7232 - recall: 0.4368 - val_loss: 0.9111 - val_categorical_accuracy: 0.5614 - val_precision: 0.6674 - val_recall: 0.3917\n",
      "Epoch 9/10\n",
      "309/309 [==============================] - 7s 21ms/step - loss: 0.8295 - categorical_accuracy: 0.6325 - precision: 0.7321 - recall: 0.4513 - val_loss: 0.9044 - val_categorical_accuracy: 0.5654 - val_precision: 0.6678 - val_recall: 0.3973\n",
      "Epoch 10/10\n",
      "309/309 [==============================] - 7s 21ms/step - loss: 0.8167 - categorical_accuracy: 0.6401 - precision: 0.7415 - recall: 0.4617 - val_loss: 0.8975 - val_categorical_accuracy: 0.5687 - val_precision: 0.6776 - val_recall: 0.4018\n"
     ]
    }
   ],
   "source": [
    "epochs = 10\n",
    "history = model.fit(train_data, epochs=epochs, validation_data=validation_data)"
   ]
  },
  {
   "cell_type": "code",
   "execution_count": 9,
   "metadata": {},
   "outputs": [
    {
     "name": "stdout",
     "output_type": "stream",
     "text": [
      "Found 3636 files belonging to 3 classes.\n"
     ]
    }
   ],
   "source": [
    "#due to nature of data, the test and train splits are defined beforehand\n",
    "test_data = keras.preprocessing.image_dataset_from_directory(test_dir, \n",
    "                                                              label_mode=label_mode, \n",
    "                                                              image_size=input_shape[:2], \n",
    "                                                              seed=seed)\n",
    "writer_classes_test = test_data.class_names"
   ]
  },
  {
   "cell_type": "code",
   "execution_count": 10,
   "metadata": {},
   "outputs": [
    {
     "data": {
      "text/plain": [
       "['Writer0101', 'Writer0202', 'Writer0303']"
      ]
     },
     "execution_count": 10,
     "metadata": {},
     "output_type": "execute_result"
    }
   ],
   "source": [
    "writer_classes"
   ]
  },
  {
   "cell_type": "code",
   "execution_count": 11,
   "metadata": {},
   "outputs": [
    {
     "data": {
      "text/plain": [
       "['Writer0101', 'Writer0202', 'Writer0303']"
      ]
     },
     "execution_count": 11,
     "metadata": {},
     "output_type": "execute_result"
    }
   ],
   "source": [
    "writer_classes_test"
   ]
  },
  {
   "cell_type": "code",
   "execution_count": 12,
   "metadata": {},
   "outputs": [
    {
     "name": "stderr",
     "output_type": "stream",
     "text": [
      "2024-02-15 02:49:50.204165: I external/local_xla/xla/stream_executor/cuda/cuda_dnn.cc:454] Loaded cuDNN version 8904\n"
     ]
    },
    {
     "name": "stdout",
     "output_type": "stream",
     "text": [
      "114/114 [==============================] - 4s 22ms/step - loss: 2.3899 - categorical_accuracy: 0.3232 - precision: 0.3245 - recall: 0.3218\n"
     ]
    }
   ],
   "source": [
    "results = model.evaluate(test_data)"
   ]
  },
  {
   "cell_type": "code",
   "execution_count": null,
   "metadata": {},
   "outputs": [],
   "source": []
  }
 ],
 "metadata": {
  "kernelspec": {
   "display_name": "mastersthesis",
   "language": "python",
   "name": "python3"
  },
  "language_info": {
   "codemirror_mode": {
    "name": "ipython",
    "version": 3
   },
   "file_extension": ".py",
   "mimetype": "text/x-python",
   "name": "python",
   "nbconvert_exporter": "python",
   "pygments_lexer": "ipython3",
   "version": "3.10.13"
  }
 },
 "nbformat": 4,
 "nbformat_minor": 2
}
