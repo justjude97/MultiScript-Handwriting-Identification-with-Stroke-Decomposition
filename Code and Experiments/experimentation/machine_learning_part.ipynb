{
 "cells": [
  {
   "cell_type": "markdown",
   "metadata": {},
   "source": [
    "# Machine Learning Part\n",
    "* goal of this notebook is to develop code for the machine learning portion\n",
    "    * dataset loading\n",
    "    * model\n",
    "    * evaluation metrics\n",
    "* code should be added into qdanalysis and refactored aferwards"
   ]
  },
  {
   "cell_type": "code",
   "execution_count": 1,
   "metadata": {},
   "outputs": [
    {
     "name": "stderr",
     "output_type": "stream",
     "text": [
      "2024-02-18 19:25:48.021066: I tensorflow/core/util/port.cc:113] oneDNN custom operations are on. You may see slightly different numerical results due to floating-point round-off errors from different computation orders. To turn them off, set the environment variable `TF_ENABLE_ONEDNN_OPTS=0`.\n",
      "2024-02-18 19:25:48.051776: E external/local_xla/xla/stream_executor/cuda/cuda_dnn.cc:9261] Unable to register cuDNN factory: Attempting to register factory for plugin cuDNN when one has already been registered\n",
      "2024-02-18 19:25:48.051801: E external/local_xla/xla/stream_executor/cuda/cuda_fft.cc:607] Unable to register cuFFT factory: Attempting to register factory for plugin cuFFT when one has already been registered\n",
      "2024-02-18 19:25:48.052587: E external/local_xla/xla/stream_executor/cuda/cuda_blas.cc:1515] Unable to register cuBLAS factory: Attempting to register factory for plugin cuBLAS when one has already been registered\n",
      "2024-02-18 19:25:48.058051: I tensorflow/core/platform/cpu_feature_guard.cc:182] This TensorFlow binary is optimized to use available CPU instructions in performance-critical operations.\n",
      "To enable the following instructions: AVX2 AVX512F AVX512_VNNI FMA, in other operations, rebuild TensorFlow with the appropriate compiler flags.\n",
      "2024-02-18 19:25:48.692036: W tensorflow/compiler/tf2tensorrt/utils/py_utils.cc:38] TF-TRT Warning: Could not find TensorRT\n"
     ]
    }
   ],
   "source": [
    "import tensorflow as tf\n",
    "from tensorflow import keras\n",
    "\n",
    "from qdanalysis.models import adapt_resnet50\n",
    "\n",
    "import pathlib"
   ]
  },
  {
   "cell_type": "code",
   "execution_count": 2,
   "metadata": {},
   "outputs": [
    {
     "data": {
      "text/plain": [
       "[PhysicalDevice(name='/physical_device:GPU:0', device_type='GPU')]"
      ]
     },
     "execution_count": 2,
     "metadata": {},
     "output_type": "execute_result"
    }
   ],
   "source": [
    "tf.config.list_physical_devices('GPU')"
   ]
  },
  {
   "cell_type": "code",
   "execution_count": 5,
   "metadata": {},
   "outputs": [],
   "source": [
    "train_dir = '../prepared datasets/CERUG/CN'\n",
    "test_dir = '../prepared datasets/CERUG/EN'"
   ]
  },
  {
   "cell_type": "code",
   "execution_count": 6,
   "metadata": {},
   "outputs": [
    {
     "name": "stdout",
     "output_type": "stream",
     "text": [
      "Found 463507 files belonging to 105 classes.\n",
      "Using 370806 files for training.\n"
     ]
    },
    {
     "name": "stderr",
     "output_type": "stream",
     "text": [
      "2024-02-18 19:26:40.857241: I tensorflow/core/common_runtime/gpu/gpu_device.cc:1929] Created device /job:localhost/replica:0/task:0/device:GPU:0 with 22037 MB memory:  -> device: 0, name: NVIDIA TITAN RTX, pci bus id: 0000:65:00.0, compute capability: 7.5\n"
     ]
    }
   ],
   "source": [
    "label_mode = 'categorical'\n",
    "#shape image will be resized to (figure out ideal values later)\n",
    "input_shape = (128, 128, 3)\n",
    "seed = 42\n",
    "validation_split = 0.2\n",
    "\n",
    "#due to nature of data, the test and train splits are defined beforehand\n",
    "train_data = keras.preprocessing.image_dataset_from_directory(train_dir, \n",
    "                                                              label_mode=label_mode, \n",
    "                                                              image_size=input_shape[:2], \n",
    "                                                              seed=seed, \n",
    "                                                              validation_split=validation_split, \n",
    "                                                              subset='training')\n",
    "writer_classes = train_data.class_names"
   ]
  },
  {
   "cell_type": "code",
   "execution_count": 7,
   "metadata": {},
   "outputs": [
    {
     "data": {
      "text/plain": [
       "105"
      ]
     },
     "execution_count": 7,
     "metadata": {},
     "output_type": "execute_result"
    }
   ],
   "source": [
    "len(writer_classes)"
   ]
  },
  {
   "cell_type": "code",
   "execution_count": 8,
   "metadata": {},
   "outputs": [
    {
     "name": "stdout",
     "output_type": "stream",
     "text": [
      "Found 463507 files belonging to 105 classes.\n",
      "Using 92701 files for validation.\n"
     ]
    }
   ],
   "source": [
    "validation_data = keras.preprocessing.image_dataset_from_directory(train_dir,\n",
    "                                                                   label_mode=label_mode,\n",
    "                                                                   image_size=input_shape[:2],\n",
    "                                                                   seed=seed,\n",
    "                                                                   validation_split=validation_split,\n",
    "                                                                   subset='validation')"
   ]
  },
  {
   "cell_type": "code",
   "execution_count": 9,
   "metadata": {},
   "outputs": [
    {
     "name": "stdout",
     "output_type": "stream",
     "text": [
      "Model: \"model\"\n",
      "_________________________________________________________________\n",
      " Layer (type)                Output Shape              Param #   \n",
      "=================================================================\n",
      " input_2 (InputLayer)        [(None, 128, 128, 3)]     0         \n",
      "                                                                 \n",
      " resnet50 (Functional)       (None, 4, 4, 2048)        23587712  \n",
      "                                                                 \n",
      " global_average_pooling2d (  (None, 2048)              0         \n",
      " GlobalAveragePooling2D)                                         \n",
      "                                                                 \n",
      " dense (Dense)               (None, 1000)              2049000   \n",
      "                                                                 \n",
      " dense_1 (Dense)             (None, 105)               105105    \n",
      "                                                                 \n",
      "=================================================================\n",
      "Total params: 25741817 (98.20 MB)\n",
      "Trainable params: 2154105 (8.22 MB)\n",
      "Non-trainable params: 23587712 (89.98 MB)\n",
      "_________________________________________________________________\n"
     ]
    }
   ],
   "source": [
    "model = adapt_resnet50(input_shape, len(writer_classes))\n",
    "\n",
    "model.summary()"
   ]
  },
  {
   "cell_type": "code",
   "execution_count": 10,
   "metadata": {},
   "outputs": [],
   "source": [
    "# optimizer and loss taken from https://stackoverflow.com/questions/71704268/using-tf-keras-utils-image-dataset-from-directory-with-label-list\n",
    "optimizer = tf.keras.optimizers.Nadam(\n",
    "    learning_rate=0.00001, beta_1=0.9, beta_2=0.999, epsilon=1e-07,\n",
    "    name='Nadam'\n",
    ")\n",
    "\n",
    "lossfn = tf.keras.losses.CategoricalCrossentropy()\n",
    "\n",
    "metrics = [\n",
    "    keras.metrics.CategoricalAccuracy(),\n",
    "    keras.metrics.Precision(),\n",
    "    keras.metrics.Recall()\n",
    "]\n",
    "\n",
    "model.compile(optimizer=optimizer, loss=lossfn, metrics=metrics)"
   ]
  },
  {
   "cell_type": "code",
   "execution_count": 9,
   "metadata": {},
   "outputs": [
    {
     "name": "stdout",
     "output_type": "stream",
     "text": [
      "Epoch 1/100\n"
     ]
    },
    {
     "name": "stderr",
     "output_type": "stream",
     "text": [
      "2024-02-15 03:25:56.005950: I external/local_xla/xla/stream_executor/cuda/cuda_dnn.cc:454] Loaded cuDNN version 8904\n",
      "2024-02-15 03:25:56.977947: I external/local_xla/xla/service/service.cc:168] XLA service 0xd1c6c40 initialized for platform CUDA (this does not guarantee that XLA will be used). Devices:\n",
      "2024-02-15 03:25:56.977985: I external/local_xla/xla/service/service.cc:176]   StreamExecutor device (0): NVIDIA TITAN RTX, Compute Capability 7.5\n",
      "2024-02-15 03:25:56.990740: I tensorflow/compiler/mlir/tensorflow/utils/dump_mlir_util.cc:269] disabling MLIR crash reproducer, set env var `MLIR_CRASH_REPRODUCER_DIRECTORY` to enable.\n",
      "WARNING: All log messages before absl::InitializeLog() is called are written to STDERR\n",
      "I0000 00:00:1707996357.102302  342844 device_compiler.h:186] Compiled cluster using XLA!  This line is logged at most once for the lifetime of the process.\n"
     ]
    },
    {
     "name": "stdout",
     "output_type": "stream",
     "text": [
      "11588/11588 [==============================] - 258s 22ms/step - loss: 4.0538 - categorical_accuracy: 0.0747 - precision: 0.6369 - recall: 0.0019 - val_loss: 3.7826 - val_categorical_accuracy: 0.1012 - val_precision: 0.6320 - val_recall: 0.0047\n",
      "Epoch 2/100\n",
      "11588/11588 [==============================] - 255s 22ms/step - loss: 3.6617 - categorical_accuracy: 0.1204 - precision: 0.6685 - recall: 0.0058 - val_loss: 3.6078 - val_categorical_accuracy: 0.1258 - val_precision: 0.6553 - val_recall: 0.0079\n",
      "Epoch 3/100\n",
      "11588/11588 [==============================] - 252s 22ms/step - loss: 3.5180 - categorical_accuracy: 0.1425 - precision: 0.6980 - recall: 0.0090 - val_loss: 3.5085 - val_categorical_accuracy: 0.1408 - val_precision: 0.6655 - val_recall: 0.0103\n",
      "Epoch 4/100\n",
      "11588/11588 [==============================] - 250s 22ms/step - loss: 3.4230 - categorical_accuracy: 0.1576 - precision: 0.7157 - recall: 0.0118 - val_loss: 3.4408 - val_categorical_accuracy: 0.1510 - val_precision: 0.6599 - val_recall: 0.0127\n",
      "Epoch 5/100\n",
      "11588/11588 [==============================] - 251s 22ms/step - loss: 3.3509 - categorical_accuracy: 0.1699 - precision: 0.7256 - recall: 0.0142 - val_loss: 3.3878 - val_categorical_accuracy: 0.1591 - val_precision: 0.6787 - val_recall: 0.0148\n",
      "Epoch 6/100\n",
      "11588/11588 [==============================] - 254s 22ms/step - loss: 3.2924 - categorical_accuracy: 0.1800 - precision: 0.7337 - recall: 0.0165 - val_loss: 3.3458 - val_categorical_accuracy: 0.1658 - val_precision: 0.6866 - val_recall: 0.0170\n",
      "Epoch 7/100\n",
      "11588/11588 [==============================] - 238s 21ms/step - loss: 3.2432 - categorical_accuracy: 0.1890 - precision: 0.7415 - recall: 0.0188 - val_loss: 3.3119 - val_categorical_accuracy: 0.1710 - val_precision: 0.6884 - val_recall: 0.0190\n",
      "Epoch 8/100\n",
      "11588/11588 [==============================] - 234s 20ms/step - loss: 3.2002 - categorical_accuracy: 0.1966 - precision: 0.7467 - recall: 0.0208 - val_loss: 3.2828 - val_categorical_accuracy: 0.1764 - val_precision: 0.6913 - val_recall: 0.0209\n",
      "Epoch 9/100\n",
      "11588/11588 [==============================] - 233s 20ms/step - loss: 3.1623 - categorical_accuracy: 0.2039 - precision: 0.7527 - recall: 0.0230 - val_loss: 3.2578 - val_categorical_accuracy: 0.1803 - val_precision: 0.6865 - val_recall: 0.0225\n",
      "Epoch 10/100\n",
      "11588/11588 [==============================] - 268s 23ms/step - loss: 3.1283 - categorical_accuracy: 0.2105 - precision: 0.7620 - recall: 0.0252 - val_loss: 3.2348 - val_categorical_accuracy: 0.1838 - val_precision: 0.6899 - val_recall: 0.0239\n",
      "Epoch 11/100\n",
      "11588/11588 [==============================] - 276s 24ms/step - loss: 3.0973 - categorical_accuracy: 0.2161 - precision: 0.7633 - recall: 0.0270 - val_loss: 3.2155 - val_categorical_accuracy: 0.1864 - val_precision: 0.6878 - val_recall: 0.0256\n",
      "Epoch 12/100\n",
      "11588/11588 [==============================] - 276s 24ms/step - loss: 3.0689 - categorical_accuracy: 0.2216 - precision: 0.7685 - recall: 0.0290 - val_loss: 3.1978 - val_categorical_accuracy: 0.1898 - val_precision: 0.6859 - val_recall: 0.0270\n",
      "Epoch 13/100\n",
      "11588/11588 [==============================] - 275s 24ms/step - loss: 3.0425 - categorical_accuracy: 0.2264 - precision: 0.7730 - recall: 0.0311 - val_loss: 3.1820 - val_categorical_accuracy: 0.1921 - val_precision: 0.6841 - val_recall: 0.0282\n",
      "Epoch 14/100\n",
      "11588/11588 [==============================] - 275s 24ms/step - loss: 3.0179 - categorical_accuracy: 0.2312 - precision: 0.7759 - recall: 0.0329 - val_loss: 3.1677 - val_categorical_accuracy: 0.1947 - val_precision: 0.6860 - val_recall: 0.0298\n",
      "Epoch 15/100\n",
      "11588/11588 [==============================] - 275s 24ms/step - loss: 2.9948 - categorical_accuracy: 0.2355 - precision: 0.7770 - recall: 0.0348 - val_loss: 3.1545 - val_categorical_accuracy: 0.1969 - val_precision: 0.6849 - val_recall: 0.0310\n",
      "Epoch 16/100\n",
      "11588/11588 [==============================] - 275s 24ms/step - loss: 2.9732 - categorical_accuracy: 0.2400 - precision: 0.7798 - recall: 0.0364 - val_loss: 3.1418 - val_categorical_accuracy: 0.1991 - val_precision: 0.6828 - val_recall: 0.0321\n",
      "Epoch 17/100\n",
      "11588/11588 [==============================] - 275s 24ms/step - loss: 2.9525 - categorical_accuracy: 0.2438 - precision: 0.7833 - recall: 0.0383 - val_loss: 3.1304 - val_categorical_accuracy: 0.2016 - val_precision: 0.6826 - val_recall: 0.0331\n",
      "Epoch 18/100\n",
      "11588/11588 [==============================] - 275s 24ms/step - loss: 2.9330 - categorical_accuracy: 0.2480 - precision: 0.7856 - recall: 0.0399 - val_loss: 3.1197 - val_categorical_accuracy: 0.2031 - val_precision: 0.6829 - val_recall: 0.0343\n",
      "Epoch 19/100\n",
      "11588/11588 [==============================] - 275s 24ms/step - loss: 2.9144 - categorical_accuracy: 0.2523 - precision: 0.7885 - recall: 0.0418 - val_loss: 3.1108 - val_categorical_accuracy: 0.2046 - val_precision: 0.6777 - val_recall: 0.0357\n",
      "Epoch 20/100\n",
      "11588/11588 [==============================] - 275s 24ms/step - loss: 2.8965 - categorical_accuracy: 0.2560 - precision: 0.7916 - recall: 0.0435 - val_loss: 3.1030 - val_categorical_accuracy: 0.2056 - val_precision: 0.6797 - val_recall: 0.0364\n",
      "Epoch 21/100\n",
      "11588/11588 [==============================] - 275s 24ms/step - loss: 2.8795 - categorical_accuracy: 0.2595 - precision: 0.7913 - recall: 0.0450 - val_loss: 3.0948 - val_categorical_accuracy: 0.2070 - val_precision: 0.6770 - val_recall: 0.0380\n",
      "Epoch 22/100\n",
      "11588/11588 [==============================] - 275s 24ms/step - loss: 2.8632 - categorical_accuracy: 0.2627 - precision: 0.7951 - recall: 0.0467 - val_loss: 3.0872 - val_categorical_accuracy: 0.2082 - val_precision: 0.6757 - val_recall: 0.0390\n",
      "Epoch 23/100\n",
      "11588/11588 [==============================] - 275s 24ms/step - loss: 2.8475 - categorical_accuracy: 0.2659 - precision: 0.7968 - recall: 0.0482 - val_loss: 3.0794 - val_categorical_accuracy: 0.2086 - val_precision: 0.6746 - val_recall: 0.0399\n",
      "Epoch 24/100\n",
      "11588/11588 [==============================] - 275s 24ms/step - loss: 2.8321 - categorical_accuracy: 0.2692 - precision: 0.7994 - recall: 0.0499 - val_loss: 3.0734 - val_categorical_accuracy: 0.2096 - val_precision: 0.6694 - val_recall: 0.0408\n",
      "Epoch 25/100\n",
      "11588/11588 [==============================] - 275s 24ms/step - loss: 2.8175 - categorical_accuracy: 0.2721 - precision: 0.8022 - recall: 0.0514 - val_loss: 3.0667 - val_categorical_accuracy: 0.2112 - val_precision: 0.6685 - val_recall: 0.0417\n",
      "Epoch 26/100\n",
      "11588/11588 [==============================] - 275s 24ms/step - loss: 2.8032 - categorical_accuracy: 0.2752 - precision: 0.8029 - recall: 0.0530 - val_loss: 3.0619 - val_categorical_accuracy: 0.2112 - val_precision: 0.6653 - val_recall: 0.0428\n",
      "Epoch 27/100\n",
      "11588/11588 [==============================] - 275s 24ms/step - loss: 2.7894 - categorical_accuracy: 0.2776 - precision: 0.8045 - recall: 0.0546 - val_loss: 3.0554 - val_categorical_accuracy: 0.2129 - val_precision: 0.6654 - val_recall: 0.0439\n",
      "Epoch 28/100\n",
      "11588/11588 [==============================] - 275s 24ms/step - loss: 2.7758 - categorical_accuracy: 0.2811 - precision: 0.8074 - recall: 0.0561 - val_loss: 3.0508 - val_categorical_accuracy: 0.2136 - val_precision: 0.6657 - val_recall: 0.0443\n",
      "Epoch 29/100\n",
      "11588/11588 [==============================] - 275s 24ms/step - loss: 2.7628 - categorical_accuracy: 0.2840 - precision: 0.8076 - recall: 0.0578 - val_loss: 3.0466 - val_categorical_accuracy: 0.2147 - val_precision: 0.6609 - val_recall: 0.0456\n",
      "Epoch 30/100\n",
      "11588/11588 [==============================] - 275s 24ms/step - loss: 2.7501 - categorical_accuracy: 0.2871 - precision: 0.8102 - recall: 0.0594 - val_loss: 3.0429 - val_categorical_accuracy: 0.2152 - val_precision: 0.6578 - val_recall: 0.0464\n",
      "Epoch 31/100\n",
      "11588/11588 [==============================] - 274s 24ms/step - loss: 2.7376 - categorical_accuracy: 0.2897 - precision: 0.8125 - recall: 0.0608 - val_loss: 3.0379 - val_categorical_accuracy: 0.2167 - val_precision: 0.6554 - val_recall: 0.0471\n",
      "Epoch 32/100\n",
      "11588/11588 [==============================] - 275s 24ms/step - loss: 2.7255 - categorical_accuracy: 0.2921 - precision: 0.8127 - recall: 0.0624 - val_loss: 3.0339 - val_categorical_accuracy: 0.2173 - val_precision: 0.6544 - val_recall: 0.0478\n",
      "Epoch 33/100\n",
      "11588/11588 [==============================] - 274s 24ms/step - loss: 2.7137 - categorical_accuracy: 0.2952 - precision: 0.8145 - recall: 0.0640 - val_loss: 3.0299 - val_categorical_accuracy: 0.2183 - val_precision: 0.6546 - val_recall: 0.0489\n",
      "Epoch 34/100\n",
      "11588/11588 [==============================] - 275s 24ms/step - loss: 2.7020 - categorical_accuracy: 0.2976 - precision: 0.8147 - recall: 0.0654 - val_loss: 3.0274 - val_categorical_accuracy: 0.2188 - val_precision: 0.6489 - val_recall: 0.0495\n",
      "Epoch 35/100\n",
      "11588/11588 [==============================] - 275s 24ms/step - loss: 2.6907 - categorical_accuracy: 0.3002 - precision: 0.8166 - recall: 0.0670 - val_loss: 3.0234 - val_categorical_accuracy: 0.2195 - val_precision: 0.6517 - val_recall: 0.0502\n",
      "Epoch 36/100\n",
      "11588/11588 [==============================] - 275s 24ms/step - loss: 2.6795 - categorical_accuracy: 0.3030 - precision: 0.8175 - recall: 0.0686 - val_loss: 3.0215 - val_categorical_accuracy: 0.2197 - val_precision: 0.6478 - val_recall: 0.0511\n",
      "Epoch 37/100\n",
      "11588/11588 [==============================] - 275s 24ms/step - loss: 2.6686 - categorical_accuracy: 0.3055 - precision: 0.8202 - recall: 0.0700 - val_loss: 3.0182 - val_categorical_accuracy: 0.2211 - val_precision: 0.6456 - val_recall: 0.0516\n",
      "Epoch 38/100\n",
      "11588/11588 [==============================] - 275s 24ms/step - loss: 2.6579 - categorical_accuracy: 0.3082 - precision: 0.8215 - recall: 0.0715 - val_loss: 3.0155 - val_categorical_accuracy: 0.2213 - val_precision: 0.6427 - val_recall: 0.0524\n",
      "Epoch 39/100\n",
      "11588/11588 [==============================] - 275s 24ms/step - loss: 2.6474 - categorical_accuracy: 0.3108 - precision: 0.8230 - recall: 0.0731 - val_loss: 3.0124 - val_categorical_accuracy: 0.2221 - val_precision: 0.6427 - val_recall: 0.0535\n",
      "Epoch 40/100\n",
      "11588/11588 [==============================] - 274s 24ms/step - loss: 2.6369 - categorical_accuracy: 0.3133 - precision: 0.8244 - recall: 0.0745 - val_loss: 3.0109 - val_categorical_accuracy: 0.2223 - val_precision: 0.6407 - val_recall: 0.0537\n",
      "Epoch 41/100\n",
      "11588/11588 [==============================] - 274s 24ms/step - loss: 2.6269 - categorical_accuracy: 0.3154 - precision: 0.8251 - recall: 0.0761 - val_loss: 3.0082 - val_categorical_accuracy: 0.2229 - val_precision: 0.6382 - val_recall: 0.0544\n",
      "Epoch 42/100\n",
      "11588/11588 [==============================] - 274s 24ms/step - loss: 2.6168 - categorical_accuracy: 0.3176 - precision: 0.8270 - recall: 0.0774 - val_loss: 3.0079 - val_categorical_accuracy: 0.2231 - val_precision: 0.6365 - val_recall: 0.0551\n",
      "Epoch 43/100\n",
      "11588/11588 [==============================] - 274s 24ms/step - loss: 2.6070 - categorical_accuracy: 0.3202 - precision: 0.8274 - recall: 0.0790 - val_loss: 3.0054 - val_categorical_accuracy: 0.2236 - val_precision: 0.6342 - val_recall: 0.0557\n",
      "Epoch 44/100\n",
      "11588/11588 [==============================] - 274s 24ms/step - loss: 2.5972 - categorical_accuracy: 0.3224 - precision: 0.8290 - recall: 0.0805 - val_loss: 3.0039 - val_categorical_accuracy: 0.2242 - val_precision: 0.6309 - val_recall: 0.0570\n",
      "Epoch 45/100\n",
      "11588/11588 [==============================] - 275s 24ms/step - loss: 2.5876 - categorical_accuracy: 0.3247 - precision: 0.8284 - recall: 0.0820 - val_loss: 3.0025 - val_categorical_accuracy: 0.2243 - val_precision: 0.6290 - val_recall: 0.0574\n",
      "Epoch 46/100\n",
      "11588/11588 [==============================] - 275s 24ms/step - loss: 2.5782 - categorical_accuracy: 0.3269 - precision: 0.8310 - recall: 0.0836 - val_loss: 3.0002 - val_categorical_accuracy: 0.2252 - val_precision: 0.6293 - val_recall: 0.0582\n",
      "Epoch 47/100\n",
      "11588/11588 [==============================] - 274s 24ms/step - loss: 2.5688 - categorical_accuracy: 0.3292 - precision: 0.8327 - recall: 0.0851 - val_loss: 2.9986 - val_categorical_accuracy: 0.2254 - val_precision: 0.6272 - val_recall: 0.0585\n",
      "Epoch 48/100\n",
      "11588/11588 [==============================] - 274s 24ms/step - loss: 2.5599 - categorical_accuracy: 0.3311 - precision: 0.8325 - recall: 0.0865 - val_loss: 2.9984 - val_categorical_accuracy: 0.2259 - val_precision: 0.6226 - val_recall: 0.0594\n",
      "Epoch 49/100\n",
      "11588/11588 [==============================] - 274s 24ms/step - loss: 2.5506 - categorical_accuracy: 0.3335 - precision: 0.8338 - recall: 0.0880 - val_loss: 2.9962 - val_categorical_accuracy: 0.2260 - val_precision: 0.6225 - val_recall: 0.0602\n",
      "Epoch 50/100\n",
      "11588/11588 [==============================] - 275s 24ms/step - loss: 2.5416 - categorical_accuracy: 0.3356 - precision: 0.8350 - recall: 0.0895 - val_loss: 2.9958 - val_categorical_accuracy: 0.2264 - val_precision: 0.6192 - val_recall: 0.0609\n",
      "Epoch 51/100\n",
      "11588/11588 [==============================] - 274s 24ms/step - loss: 2.5328 - categorical_accuracy: 0.3374 - precision: 0.8350 - recall: 0.0910 - val_loss: 2.9946 - val_categorical_accuracy: 0.2266 - val_precision: 0.6193 - val_recall: 0.0611\n",
      "Epoch 52/100\n",
      "11588/11588 [==============================] - 275s 24ms/step - loss: 2.5240 - categorical_accuracy: 0.3397 - precision: 0.8373 - recall: 0.0925 - val_loss: 2.9937 - val_categorical_accuracy: 0.2269 - val_precision: 0.6163 - val_recall: 0.0617\n",
      "Epoch 53/100\n",
      "11588/11588 [==============================] - 275s 24ms/step - loss: 2.5154 - categorical_accuracy: 0.3420 - precision: 0.8375 - recall: 0.0940 - val_loss: 2.9941 - val_categorical_accuracy: 0.2266 - val_precision: 0.6144 - val_recall: 0.0623\n",
      "Epoch 54/100\n",
      "11588/11588 [==============================] - 274s 24ms/step - loss: 2.5067 - categorical_accuracy: 0.3438 - precision: 0.8391 - recall: 0.0956 - val_loss: 2.9928 - val_categorical_accuracy: 0.2273 - val_precision: 0.6124 - val_recall: 0.0629\n",
      "Epoch 55/100\n",
      "11588/11588 [==============================] - 274s 24ms/step - loss: 2.4984 - categorical_accuracy: 0.3460 - precision: 0.8403 - recall: 0.0970 - val_loss: 2.9920 - val_categorical_accuracy: 0.2278 - val_precision: 0.6121 - val_recall: 0.0631\n",
      "Epoch 56/100\n",
      "11588/11588 [==============================] - 274s 24ms/step - loss: 2.4900 - categorical_accuracy: 0.3480 - precision: 0.8411 - recall: 0.0985 - val_loss: 2.9922 - val_categorical_accuracy: 0.2272 - val_precision: 0.6119 - val_recall: 0.0638\n",
      "Epoch 57/100\n",
      "11588/11588 [==============================] - 272s 23ms/step - loss: 2.4817 - categorical_accuracy: 0.3500 - precision: 0.8424 - recall: 0.1001 - val_loss: 2.9913 - val_categorical_accuracy: 0.2280 - val_precision: 0.6087 - val_recall: 0.0643\n",
      "Epoch 58/100\n",
      "11588/11588 [==============================] - 275s 24ms/step - loss: 2.4734 - categorical_accuracy: 0.3520 - precision: 0.8429 - recall: 0.1017 - val_loss: 2.9914 - val_categorical_accuracy: 0.2282 - val_precision: 0.6055 - val_recall: 0.0656\n",
      "Epoch 59/100\n",
      "11588/11588 [==============================] - 274s 24ms/step - loss: 2.4653 - categorical_accuracy: 0.3539 - precision: 0.8443 - recall: 0.1031 - val_loss: 2.9912 - val_categorical_accuracy: 0.2281 - val_precision: 0.6044 - val_recall: 0.0659\n",
      "Epoch 60/100\n",
      "11588/11588 [==============================] - 275s 24ms/step - loss: 2.4572 - categorical_accuracy: 0.3562 - precision: 0.8463 - recall: 0.1046 - val_loss: 2.9906 - val_categorical_accuracy: 0.2284 - val_precision: 0.6021 - val_recall: 0.0663\n",
      "Epoch 61/100\n",
      "11588/11588 [==============================] - 274s 24ms/step - loss: 2.4491 - categorical_accuracy: 0.3580 - precision: 0.8471 - recall: 0.1061 - val_loss: 2.9914 - val_categorical_accuracy: 0.2285 - val_precision: 0.5992 - val_recall: 0.0668\n",
      "Epoch 62/100\n",
      "11588/11588 [==============================] - 274s 24ms/step - loss: 2.4413 - categorical_accuracy: 0.3600 - precision: 0.8475 - recall: 0.1075 - val_loss: 2.9897 - val_categorical_accuracy: 0.2288 - val_precision: 0.5963 - val_recall: 0.0676\n",
      "Epoch 63/100\n",
      "11588/11588 [==============================] - 274s 24ms/step - loss: 2.4334 - categorical_accuracy: 0.3621 - precision: 0.8488 - recall: 0.1091 - val_loss: 2.9908 - val_categorical_accuracy: 0.2289 - val_precision: 0.5971 - val_recall: 0.0679\n",
      "Epoch 64/100\n",
      "11588/11588 [==============================] - 274s 24ms/step - loss: 2.4257 - categorical_accuracy: 0.3635 - precision: 0.8490 - recall: 0.1105 - val_loss: 2.9920 - val_categorical_accuracy: 0.2289 - val_precision: 0.5930 - val_recall: 0.0684\n",
      "Epoch 65/100\n",
      "11588/11588 [==============================] - 275s 24ms/step - loss: 2.4179 - categorical_accuracy: 0.3660 - precision: 0.8505 - recall: 0.1122 - val_loss: 2.9905 - val_categorical_accuracy: 0.2292 - val_precision: 0.5914 - val_recall: 0.0688\n",
      "Epoch 66/100\n",
      "11588/11588 [==============================] - 275s 24ms/step - loss: 2.4103 - categorical_accuracy: 0.3678 - precision: 0.8516 - recall: 0.1135 - val_loss: 2.9912 - val_categorical_accuracy: 0.2289 - val_precision: 0.5898 - val_recall: 0.0693\n",
      "Epoch 67/100\n",
      "11588/11588 [==============================] - 274s 24ms/step - loss: 2.4027 - categorical_accuracy: 0.3697 - precision: 0.8524 - recall: 0.1152 - val_loss: 2.9914 - val_categorical_accuracy: 0.2292 - val_precision: 0.5881 - val_recall: 0.0698\n",
      "Epoch 68/100\n",
      "11588/11588 [==============================] - 274s 24ms/step - loss: 2.3952 - categorical_accuracy: 0.3718 - precision: 0.8535 - recall: 0.1167 - val_loss: 2.9924 - val_categorical_accuracy: 0.2289 - val_precision: 0.5874 - val_recall: 0.0705\n",
      "Epoch 69/100\n",
      "11588/11588 [==============================] - 275s 24ms/step - loss: 2.3877 - categorical_accuracy: 0.3735 - precision: 0.8550 - recall: 0.1182 - val_loss: 2.9920 - val_categorical_accuracy: 0.2293 - val_precision: 0.5858 - val_recall: 0.0710\n",
      "Epoch 70/100\n",
      "11588/11588 [==============================] - 275s 24ms/step - loss: 2.3803 - categorical_accuracy: 0.3753 - precision: 0.8553 - recall: 0.1197 - val_loss: 2.9923 - val_categorical_accuracy: 0.2295 - val_precision: 0.5844 - val_recall: 0.0713\n",
      "Epoch 71/100\n",
      "11588/11588 [==============================] - 274s 24ms/step - loss: 2.3730 - categorical_accuracy: 0.3775 - precision: 0.8568 - recall: 0.1210 - val_loss: 2.9932 - val_categorical_accuracy: 0.2299 - val_precision: 0.5823 - val_recall: 0.0721\n",
      "Epoch 72/100\n",
      "11588/11588 [==============================] - 274s 24ms/step - loss: 2.3657 - categorical_accuracy: 0.3793 - precision: 0.8574 - recall: 0.1226 - val_loss: 2.9935 - val_categorical_accuracy: 0.2300 - val_precision: 0.5816 - val_recall: 0.0725\n",
      "Epoch 73/100\n",
      "11588/11588 [==============================] - 275s 24ms/step - loss: 2.3584 - categorical_accuracy: 0.3812 - precision: 0.8580 - recall: 0.1239 - val_loss: 2.9946 - val_categorical_accuracy: 0.2299 - val_precision: 0.5790 - val_recall: 0.0732\n",
      "Epoch 74/100\n",
      "11588/11588 [==============================] - 275s 24ms/step - loss: 2.3512 - categorical_accuracy: 0.3830 - precision: 0.8593 - recall: 0.1255 - val_loss: 2.9953 - val_categorical_accuracy: 0.2299 - val_precision: 0.5789 - val_recall: 0.0735\n",
      "Epoch 75/100\n",
      "11588/11588 [==============================] - 275s 24ms/step - loss: 2.3441 - categorical_accuracy: 0.3849 - precision: 0.8596 - recall: 0.1270 - val_loss: 2.9956 - val_categorical_accuracy: 0.2298 - val_precision: 0.5754 - val_recall: 0.0739\n",
      "Epoch 76/100\n",
      "11588/11588 [==============================] - 275s 24ms/step - loss: 2.3370 - categorical_accuracy: 0.3867 - precision: 0.8604 - recall: 0.1283 - val_loss: 2.9966 - val_categorical_accuracy: 0.2301 - val_precision: 0.5733 - val_recall: 0.0745\n",
      "Epoch 77/100\n",
      "11588/11588 [==============================] - 275s 24ms/step - loss: 2.3299 - categorical_accuracy: 0.3882 - precision: 0.8621 - recall: 0.1300 - val_loss: 2.9968 - val_categorical_accuracy: 0.2299 - val_precision: 0.5725 - val_recall: 0.0749\n",
      "Epoch 78/100\n",
      "11588/11588 [==============================] - 274s 24ms/step - loss: 2.3231 - categorical_accuracy: 0.3902 - precision: 0.8624 - recall: 0.1312 - val_loss: 2.9984 - val_categorical_accuracy: 0.2299 - val_precision: 0.5686 - val_recall: 0.0753\n",
      "Epoch 79/100\n",
      "11588/11588 [==============================] - 275s 24ms/step - loss: 2.3160 - categorical_accuracy: 0.3921 - precision: 0.8630 - recall: 0.1329 - val_loss: 2.9996 - val_categorical_accuracy: 0.2300 - val_precision: 0.5675 - val_recall: 0.0757\n",
      "Epoch 80/100\n",
      "11588/11588 [==============================] - 275s 24ms/step - loss: 2.3090 - categorical_accuracy: 0.3938 - precision: 0.8645 - recall: 0.1343 - val_loss: 3.0006 - val_categorical_accuracy: 0.2299 - val_precision: 0.5648 - val_recall: 0.0760\n",
      "Epoch 81/100\n",
      "11588/11588 [==============================] - 274s 24ms/step - loss: 2.3022 - categorical_accuracy: 0.3956 - precision: 0.8643 - recall: 0.1358 - val_loss: 3.0000 - val_categorical_accuracy: 0.2301 - val_precision: 0.5628 - val_recall: 0.0764\n",
      "Epoch 82/100\n",
      "11588/11588 [==============================] - 275s 24ms/step - loss: 2.2954 - categorical_accuracy: 0.3973 - precision: 0.8656 - recall: 0.1372 - val_loss: 3.0028 - val_categorical_accuracy: 0.2303 - val_precision: 0.5611 - val_recall: 0.0765\n",
      "Epoch 83/100\n",
      "11588/11588 [==============================] - 275s 24ms/step - loss: 2.2886 - categorical_accuracy: 0.3991 - precision: 0.8659 - recall: 0.1385 - val_loss: 3.0036 - val_categorical_accuracy: 0.2300 - val_precision: 0.5593 - val_recall: 0.0770\n",
      "Epoch 84/100\n",
      "11588/11588 [==============================] - 274s 24ms/step - loss: 2.2819 - categorical_accuracy: 0.4007 - precision: 0.8676 - recall: 0.1401 - val_loss: 3.0050 - val_categorical_accuracy: 0.2301 - val_precision: 0.5570 - val_recall: 0.0773\n",
      "Epoch 85/100\n",
      "11588/11588 [==============================] - 275s 24ms/step - loss: 2.2752 - categorical_accuracy: 0.4028 - precision: 0.8678 - recall: 0.1418 - val_loss: 3.0058 - val_categorical_accuracy: 0.2302 - val_precision: 0.5552 - val_recall: 0.0778\n",
      "Epoch 86/100\n",
      "11588/11588 [==============================] - 274s 24ms/step - loss: 2.2685 - categorical_accuracy: 0.4045 - precision: 0.8682 - recall: 0.1433 - val_loss: 3.0059 - val_categorical_accuracy: 0.2301 - val_precision: 0.5545 - val_recall: 0.0788\n",
      "Epoch 87/100\n",
      "11588/11588 [==============================] - 274s 24ms/step - loss: 2.2620 - categorical_accuracy: 0.4062 - precision: 0.8695 - recall: 0.1446 - val_loss: 3.0070 - val_categorical_accuracy: 0.2302 - val_precision: 0.5543 - val_recall: 0.0790\n",
      "Epoch 88/100\n",
      "11588/11588 [==============================] - 274s 24ms/step - loss: 2.2553 - categorical_accuracy: 0.4078 - precision: 0.8698 - recall: 0.1460 - val_loss: 3.0092 - val_categorical_accuracy: 0.2296 - val_precision: 0.5519 - val_recall: 0.0794\n",
      "Epoch 89/100\n",
      "11588/11588 [==============================] - 275s 24ms/step - loss: 2.2487 - categorical_accuracy: 0.4099 - precision: 0.8709 - recall: 0.1476 - val_loss: 3.0108 - val_categorical_accuracy: 0.2296 - val_precision: 0.5508 - val_recall: 0.0797\n",
      "Epoch 90/100\n",
      "11588/11588 [==============================] - 274s 24ms/step - loss: 2.2423 - categorical_accuracy: 0.4111 - precision: 0.8718 - recall: 0.1493 - val_loss: 3.0122 - val_categorical_accuracy: 0.2296 - val_precision: 0.5478 - val_recall: 0.0802\n",
      "Epoch 91/100\n",
      "11588/11588 [==============================] - 275s 24ms/step - loss: 2.2357 - categorical_accuracy: 0.4131 - precision: 0.8723 - recall: 0.1505 - val_loss: 3.0143 - val_categorical_accuracy: 0.2304 - val_precision: 0.5456 - val_recall: 0.0809\n",
      "Epoch 92/100\n",
      "11588/11588 [==============================] - 275s 24ms/step - loss: 2.2294 - categorical_accuracy: 0.4149 - precision: 0.8734 - recall: 0.1520 - val_loss: 3.0141 - val_categorical_accuracy: 0.2306 - val_precision: 0.5458 - val_recall: 0.0809\n",
      "Epoch 93/100\n",
      "11588/11588 [==============================] - 275s 24ms/step - loss: 2.2229 - categorical_accuracy: 0.4164 - precision: 0.8733 - recall: 0.1534 - val_loss: 3.0166 - val_categorical_accuracy: 0.2301 - val_precision: 0.5426 - val_recall: 0.0812\n",
      "Epoch 94/100\n",
      "11588/11588 [==============================] - 274s 24ms/step - loss: 2.2167 - categorical_accuracy: 0.4179 - precision: 0.8737 - recall: 0.1553 - val_loss: 3.0179 - val_categorical_accuracy: 0.2298 - val_precision: 0.5408 - val_recall: 0.0817\n",
      "Epoch 95/100\n",
      "11588/11588 [==============================] - 275s 24ms/step - loss: 2.2104 - categorical_accuracy: 0.4197 - precision: 0.8743 - recall: 0.1565 - val_loss: 3.0180 - val_categorical_accuracy: 0.2309 - val_precision: 0.5400 - val_recall: 0.0822\n",
      "Epoch 96/100\n",
      "11588/11588 [==============================] - 275s 24ms/step - loss: 2.2041 - categorical_accuracy: 0.4213 - precision: 0.8757 - recall: 0.1580 - val_loss: 3.0203 - val_categorical_accuracy: 0.2302 - val_precision: 0.5364 - val_recall: 0.0827\n",
      "Epoch 97/100\n",
      "11588/11588 [==============================] - 275s 24ms/step - loss: 2.1978 - categorical_accuracy: 0.4231 - precision: 0.8768 - recall: 0.1594 - val_loss: 3.0215 - val_categorical_accuracy: 0.2304 - val_precision: 0.5376 - val_recall: 0.0831\n",
      "Epoch 98/100\n",
      "11588/11588 [==============================] - 275s 24ms/step - loss: 2.1914 - categorical_accuracy: 0.4249 - precision: 0.8772 - recall: 0.1612 - val_loss: 3.0235 - val_categorical_accuracy: 0.2304 - val_precision: 0.5348 - val_recall: 0.0833\n",
      "Epoch 99/100\n",
      "11588/11588 [==============================] - 275s 24ms/step - loss: 2.1854 - categorical_accuracy: 0.4266 - precision: 0.8774 - recall: 0.1626 - val_loss: 3.0255 - val_categorical_accuracy: 0.2303 - val_precision: 0.5340 - val_recall: 0.0838\n",
      "Epoch 100/100\n",
      "11588/11588 [==============================] - 275s 24ms/step - loss: 2.1792 - categorical_accuracy: 0.4281 - precision: 0.8780 - recall: 0.1642 - val_loss: 3.0272 - val_categorical_accuracy: 0.2297 - val_precision: 0.5334 - val_recall: 0.0839\n"
     ]
    }
   ],
   "source": [
    "epochs = 100\n",
    "history = model.fit(train_data, epochs=epochs, validation_data=validation_data)"
   ]
  },
  {
   "cell_type": "code",
   "execution_count": 11,
   "metadata": {},
   "outputs": [
    {
     "name": "stdout",
     "output_type": "stream",
     "text": [
      "Found 137258 files belonging to 105 classes.\n"
     ]
    }
   ],
   "source": [
    "#due to nature of data, the test and train splits are defined beforehand\n",
    "test_data = keras.preprocessing.image_dataset_from_directory(test_dir, \n",
    "                                                              label_mode=label_mode, \n",
    "                                                              image_size=input_shape[:2], \n",
    "                                                              seed=seed)\n",
    "writer_classes_test = test_data.class_names"
   ]
  },
  {
   "cell_type": "code",
   "execution_count": 12,
   "metadata": {},
   "outputs": [
    {
     "data": {
      "text/plain": [
       "['Writer0101',\n",
       " 'Writer0202',\n",
       " 'Writer0303',\n",
       " 'Writer0404',\n",
       " 'Writer0505',\n",
       " 'Writer0606',\n",
       " 'Writer0707',\n",
       " 'Writer0808',\n",
       " 'Writer0909',\n",
       " 'Writer1010',\n",
       " 'Writer1111',\n",
       " 'Writer1212',\n",
       " 'Writer1313',\n",
       " 'Writer1414',\n",
       " 'Writer1515',\n",
       " 'Writer1616',\n",
       " 'Writer1717',\n",
       " 'Writer1818',\n",
       " 'Writer1919',\n",
       " 'Writer2020',\n",
       " 'Writer2121',\n",
       " 'Writer2222',\n",
       " 'Writer2323',\n",
       " 'Writer2424',\n",
       " 'Writer2525',\n",
       " 'Writer2626',\n",
       " 'Writer2727',\n",
       " 'Writer2828',\n",
       " 'Writer2929',\n",
       " 'Writer3030',\n",
       " 'Writer3131',\n",
       " 'Writer3232',\n",
       " 'Writer3333',\n",
       " 'Writer3434',\n",
       " 'Writer3535',\n",
       " 'Writer3636',\n",
       " 'Writer3737',\n",
       " 'Writer3838',\n",
       " 'Writer3939',\n",
       " 'Writer4040',\n",
       " 'Writer4141',\n",
       " 'Writer4242',\n",
       " 'Writer4343',\n",
       " 'Writer4444',\n",
       " 'Writer4545',\n",
       " 'Writer4646',\n",
       " 'Writer4747',\n",
       " 'Writer4848',\n",
       " 'Writer4949',\n",
       " 'Writer5050',\n",
       " 'Writer5151',\n",
       " 'Writer5252',\n",
       " 'Writer5353',\n",
       " 'Writer5454',\n",
       " 'Writer5555',\n",
       " 'Writer5656',\n",
       " 'Writer5757',\n",
       " 'Writer5858',\n",
       " 'Writer5959',\n",
       " 'Writer6060',\n",
       " 'Writer6161',\n",
       " 'Writer6262',\n",
       " 'Writer6363',\n",
       " 'Writer6464',\n",
       " 'Writer6565',\n",
       " 'Writer6666',\n",
       " 'Writer6767',\n",
       " 'Writer6868',\n",
       " 'Writer6969',\n",
       " 'Writer7070',\n",
       " 'Writer7171',\n",
       " 'Writer7272',\n",
       " 'Writer7373',\n",
       " 'Writer7474',\n",
       " 'Writer7575',\n",
       " 'Writer7676',\n",
       " 'Writer7777',\n",
       " 'Writer7878',\n",
       " 'Writer7979',\n",
       " 'Writer8080',\n",
       " 'Writer8181',\n",
       " 'Writer8282',\n",
       " 'Writer8383',\n",
       " 'Writer8484',\n",
       " 'Writer8585',\n",
       " 'Writer8686',\n",
       " 'Writer8787',\n",
       " 'Writer8888',\n",
       " 'Writer8989',\n",
       " 'Writer9090',\n",
       " 'Writer9100',\n",
       " 'Writer9101',\n",
       " 'Writer9102',\n",
       " 'Writer9103',\n",
       " 'Writer9104',\n",
       " 'Writer9105',\n",
       " 'Writer9191',\n",
       " 'Writer9292',\n",
       " 'Writer9393',\n",
       " 'Writer9494',\n",
       " 'Writer9595',\n",
       " 'Writer9696',\n",
       " 'Writer9797',\n",
       " 'Writer9898',\n",
       " 'Writer9999']"
      ]
     },
     "execution_count": 12,
     "metadata": {},
     "output_type": "execute_result"
    }
   ],
   "source": [
    "writer_classes"
   ]
  },
  {
   "cell_type": "code",
   "execution_count": 13,
   "metadata": {},
   "outputs": [
    {
     "data": {
      "text/plain": [
       "['Writer0101',\n",
       " 'Writer0202',\n",
       " 'Writer0303',\n",
       " 'Writer0404',\n",
       " 'Writer0505',\n",
       " 'Writer0606',\n",
       " 'Writer0707',\n",
       " 'Writer0808',\n",
       " 'Writer0909',\n",
       " 'Writer1010',\n",
       " 'Writer1111',\n",
       " 'Writer1212',\n",
       " 'Writer1313',\n",
       " 'Writer1414',\n",
       " 'Writer1515',\n",
       " 'Writer1616',\n",
       " 'Writer1717',\n",
       " 'Writer1818',\n",
       " 'Writer1919',\n",
       " 'Writer2020',\n",
       " 'Writer2121',\n",
       " 'Writer2222',\n",
       " 'Writer2323',\n",
       " 'Writer2424',\n",
       " 'Writer2525',\n",
       " 'Writer2626',\n",
       " 'Writer2727',\n",
       " 'Writer2828',\n",
       " 'Writer2929',\n",
       " 'Writer3030',\n",
       " 'Writer3131',\n",
       " 'Writer3232',\n",
       " 'Writer3333',\n",
       " 'Writer3434',\n",
       " 'Writer3535',\n",
       " 'Writer3636',\n",
       " 'Writer3737',\n",
       " 'Writer3838',\n",
       " 'Writer3939',\n",
       " 'Writer4040',\n",
       " 'Writer4141',\n",
       " 'Writer4242',\n",
       " 'Writer4343',\n",
       " 'Writer4444',\n",
       " 'Writer4545',\n",
       " 'Writer4646',\n",
       " 'Writer4747',\n",
       " 'Writer4848',\n",
       " 'Writer4949',\n",
       " 'Writer5050',\n",
       " 'Writer5151',\n",
       " 'Writer5252',\n",
       " 'Writer5353',\n",
       " 'Writer5454',\n",
       " 'Writer5555',\n",
       " 'Writer5656',\n",
       " 'Writer5757',\n",
       " 'Writer5858',\n",
       " 'Writer5959',\n",
       " 'Writer6060',\n",
       " 'Writer6161',\n",
       " 'Writer6262',\n",
       " 'Writer6363',\n",
       " 'Writer6464',\n",
       " 'Writer6565',\n",
       " 'Writer6666',\n",
       " 'Writer6767',\n",
       " 'Writer6868',\n",
       " 'Writer6969',\n",
       " 'Writer7070',\n",
       " 'Writer7171',\n",
       " 'Writer7272',\n",
       " 'Writer7373',\n",
       " 'Writer7474',\n",
       " 'Writer7575',\n",
       " 'Writer7676',\n",
       " 'Writer7777',\n",
       " 'Writer7878',\n",
       " 'Writer7979',\n",
       " 'Writer8080',\n",
       " 'Writer8181',\n",
       " 'Writer8282',\n",
       " 'Writer8383',\n",
       " 'Writer8484',\n",
       " 'Writer8585',\n",
       " 'Writer8686',\n",
       " 'Writer8787',\n",
       " 'Writer8888',\n",
       " 'Writer8989',\n",
       " 'Writer9090',\n",
       " 'Writer9100',\n",
       " 'Writer9101',\n",
       " 'Writer9102',\n",
       " 'Writer9103',\n",
       " 'Writer9104',\n",
       " 'Writer9105',\n",
       " 'Writer9191',\n",
       " 'Writer9292',\n",
       " 'Writer9393',\n",
       " 'Writer9494',\n",
       " 'Writer9595',\n",
       " 'Writer9696',\n",
       " 'Writer9797',\n",
       " 'Writer9898',\n",
       " 'Writer9999']"
      ]
     },
     "execution_count": 13,
     "metadata": {},
     "output_type": "execute_result"
    }
   ],
   "source": [
    "writer_classes_test"
   ]
  },
  {
   "cell_type": "code",
   "execution_count": 14,
   "metadata": {},
   "outputs": [
    {
     "name": "stderr",
     "output_type": "stream",
     "text": [
      "2024-02-18 19:27:47.572172: I external/local_xla/xla/stream_executor/cuda/cuda_dnn.cc:454] Loaded cuDNN version 8904\n"
     ]
    },
    {
     "name": "stdout",
     "output_type": "stream",
     "text": [
      "4290/4290 [==============================] - 75s 17ms/step - loss: 5.6058 - categorical_accuracy: 0.0082 - precision: 0.0217 - recall: 7.2856e-06\n"
     ]
    }
   ],
   "source": [
    "results = model.evaluate(test_data)"
   ]
  },
  {
   "cell_type": "code",
   "execution_count": 19,
   "metadata": {},
   "outputs": [],
   "source": [
    "#custom evaluation loop\n",
    "#https://www.tensorflow.org/guide/keras/writing_a_training_loop_from_scratch\n",
    "#https://stackoverflow.com/questions/48600929/how-to-calculate-top-k-in-class-accuracies-using-tensorflow-slim-metrics\n",
    "#https://stackoverflow.com/questions/45930750/how-to-output-per-class-accuracy-in-keras\n",
    "\n",
    "#basic eval loop for testing\n",
    "acc_metric = keras.metrics.CategoricalAccuracy()"
   ]
  },
  {
   "cell_type": "code",
   "execution_count": 20,
   "metadata": {},
   "outputs": [],
   "source": [
    "for x_batch, y_batch in test_data:\n",
    "    val_logits = model(x_batch, training=False)\n",
    "    acc_metric.update_state(y_batch, val_logits)\n",
    "\n",
    "val_acc = acc_metric.result()\n"
   ]
  },
  {
   "cell_type": "code",
   "execution_count": 24,
   "metadata": {},
   "outputs": [],
   "source": [
    "#note this is from chatgpt. be REALLY careful abotu using this\n",
    "import numpy as np\n",
    "def calculate_top_k_accuracy_per_class(model, dataset, k=5):\n",
    "    # Assuming dataset is a tf.data.Dataset yielding (input, true_labels) tuples\n",
    "    # and true_labels are one-hot encoded\n",
    "    \n",
    "    # Initialize counters\n",
    "    correct_predictions_per_class = np.zeros((model.output_shape[-1],))\n",
    "    total_predictions_per_class = np.zeros((model.output_shape[-1],))\n",
    "    \n",
    "    for inputs, true_labels in dataset:\n",
    "        # Make predictions\n",
    "        preds = model(inputs, training=False)\n",
    "        \n",
    "        # Get top-k predictions indices\n",
    "        top_k_preds = np.argsort(preds, axis=-1)[:, -k:]\n",
    "        \n",
    "        # Convert one-hot labels to indices\n",
    "        true_labels_indices = np.argmax(true_labels, axis=-1)\n",
    "        \n",
    "        # Update counts\n",
    "        for i, true_label in enumerate(true_labels_indices):\n",
    "            total_predictions_per_class[true_label] += 1\n",
    "            if true_label in top_k_preds[i]:\n",
    "                correct_predictions_per_class[true_label] += 1\n",
    "    \n",
    "    # Calculate top-k accuracy per class\n",
    "    top_k_accuracy_per_class = correct_predictions_per_class / total_predictions_per_class\n",
    "    \n",
    "    return top_k_accuracy_per_class"
   ]
  },
  {
   "cell_type": "code",
   "execution_count": 25,
   "metadata": {},
   "outputs": [
    {
     "data": {
      "text/plain": [
       "array([1.94256757e-02, 0.00000000e+00, 8.21018062e-04, 0.00000000e+00,\n",
       "       0.00000000e+00, 9.05245347e-02, 1.62601626e-03, 3.74812594e-03,\n",
       "       0.00000000e+00, 6.23700624e-03, 8.29367777e-02, 3.03720577e-03,\n",
       "       0.00000000e+00, 0.00000000e+00, 3.79746835e-02, 0.00000000e+00,\n",
       "       5.56438792e-03, 7.97720798e-02, 1.89137380e-01, 2.17076700e-03,\n",
       "       1.04347826e-02, 4.04172099e-02, 1.47710487e-03, 1.24826630e-02,\n",
       "       2.50467290e-01, 7.28744939e-03, 3.20512821e-02, 3.23773585e-01,\n",
       "       0.00000000e+00, 2.31481481e-03, 6.53594771e-04, 0.00000000e+00,\n",
       "       2.38961039e-01, 0.00000000e+00, 2.45398773e-02, 0.00000000e+00,\n",
       "       0.00000000e+00, 0.00000000e+00, 1.54202005e-02, 0.00000000e+00,\n",
       "       6.26029654e-02, 0.00000000e+00, 0.00000000e+00, 3.91666667e-02,\n",
       "       0.00000000e+00, 0.00000000e+00, 1.39116203e-02, 0.00000000e+00,\n",
       "       0.00000000e+00, 0.00000000e+00, 3.54651163e-01, 4.13844996e-02,\n",
       "       3.17965024e-03, 0.00000000e+00, 0.00000000e+00, 2.37785016e-01,\n",
       "       0.00000000e+00, 6.26893939e-01, 0.00000000e+00, 0.00000000e+00,\n",
       "       7.73993808e-04, 1.74703557e-01, 3.90260631e-01, 0.00000000e+00,\n",
       "       0.00000000e+00, 0.00000000e+00, 1.18181818e-01, 4.48095594e-03,\n",
       "       0.00000000e+00, 0.00000000e+00, 0.00000000e+00, 0.00000000e+00,\n",
       "       0.00000000e+00, 0.00000000e+00, 0.00000000e+00, 0.00000000e+00,\n",
       "       0.00000000e+00, 0.00000000e+00, 0.00000000e+00, 1.82328191e-02,\n",
       "       7.89036545e-02, 0.00000000e+00, 9.55534532e-02, 3.30250991e-03,\n",
       "       2.52525253e-03, 0.00000000e+00, 0.00000000e+00, 0.00000000e+00,\n",
       "       1.25994695e-02, 0.00000000e+00, 5.06588580e-01, 0.00000000e+00,\n",
       "       4.29799427e-03, 0.00000000e+00, 5.83515682e-03, 0.00000000e+00,\n",
       "       3.93543428e-01, 0.00000000e+00, 6.17665225e-04, 0.00000000e+00,\n",
       "       2.36593060e-03, 1.68251646e-02, 0.00000000e+00, 2.80686695e-01,\n",
       "       0.00000000e+00])"
      ]
     },
     "execution_count": 25,
     "metadata": {},
     "output_type": "execute_result"
    }
   ],
   "source": [
    "calculate_top_k_accuracy_per_class(model, test_data, k=5)"
   ]
  },
  {
   "cell_type": "code",
   "execution_count": 15,
   "metadata": {},
   "outputs": [
    {
     "name": "stderr",
     "output_type": "stream",
     "text": [
      "/home/digitalstorm/anaconda3/envs/mastersthesis/lib/python3.10/site-packages/keras/src/engine/training.py:3103: UserWarning: You are saving your model as an HDF5 file via `model.save()`. This file format is considered legacy. We recommend using instead the native Keras format, e.g. `model.save('my_model.keras')`.\n",
      "  saving_api.save_model(\n"
     ]
    }
   ],
   "source": [
    "model.save('./output/models/test_model.h5')"
   ]
  },
  {
   "cell_type": "code",
   "execution_count": 24,
   "metadata": {},
   "outputs": [
    {
     "data": {
      "text/plain": [
       "dict_keys(['loss', 'categorical_accuracy', 'precision', 'recall', 'val_loss', 'val_categorical_accuracy', 'val_precision', 'val_recall'])"
      ]
     },
     "execution_count": 24,
     "metadata": {},
     "output_type": "execute_result"
    }
   ],
   "source": [
    "history.history.keys()"
   ]
  },
  {
   "cell_type": "code",
   "execution_count": 27,
   "metadata": {},
   "outputs": [],
   "source": [
    "import json\n",
    "history_dict = history.history\n",
    "\n",
    "with open('./output/models/test_model_history.json', 'w') as file:\n",
    "    json.dump(history_dict, file)"
   ]
  },
  {
   "cell_type": "code",
   "execution_count": 29,
   "metadata": {},
   "outputs": [
    {
     "name": "stderr",
     "output_type": "stream",
     "text": [
      "No artists with labels found to put in legend.  Note that artists whose label start with an underscore are ignored when legend() is called with no argument.\n"
     ]
    },
    {
     "data": {
      "image/png": "[encoded data removed]",
      "text/plain": [
       "<Figure size 640x480 with 1 Axes>"
      ]
     },
     "metadata": {},
     "output_type": "display_data"
    }
   ],
   "source": [
    "import matplotlib.pyplot as plt\n",
    "\n",
    "plt.plot(range(epochs), history_dict['loss'])\n",
    "plt.plot(range(epochs), history_dict['val_loss'])\n",
    "plt.legend()\n",
    "plt.show()"
   ]
  },
  {
   "cell_type": "code",
   "execution_count": null,
   "metadata": {},
   "outputs": [],
   "source": []
  }
 ],
 "metadata": {
  "kernelspec": {
   "display_name": "mastersthesis",
   "language": "python",
   "name": "python3"
  },
  "language_info": {
   "codemirror_mode": {
    "name": "ipython",
    "version": 3
   },
   "file_extension": ".py",
   "mimetype": "text/x-python",
   "name": "python",
   "nbconvert_exporter": "python",
   "pygments_lexer": "ipython3",
   "version": "3.10.13"
  }
 },
 "nbformat": 4,
 "nbformat_minor": 2
}
