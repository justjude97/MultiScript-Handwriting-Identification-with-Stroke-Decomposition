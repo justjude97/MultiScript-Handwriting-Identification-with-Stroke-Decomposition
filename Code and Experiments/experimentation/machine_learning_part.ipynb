{
 "cells": [
  {
   "cell_type": "markdown",
   "metadata": {},
   "source": [
    "# Machine Learning Part\n",
    "* goal of this notebook is to develop code for the machine learning portion\n",
    "    * dataset loading\n",
    "    * model\n",
    "    * evaluation metrics\n",
    "* code should be added into qdanalysis and refactored aferwards"
   ]
  },
  {
   "cell_type": "code",
   "execution_count": 1,
   "metadata": {},
   "outputs": [
    {
     "name": "stderr",
     "output_type": "stream",
     "text": [
      "2024-02-14 15:13:26.808063: I tensorflow/core/util/port.cc:113] oneDNN custom operations are on. You may see slightly different numerical results due to floating-point round-off errors from different computation orders. To turn them off, set the environment variable `TF_ENABLE_ONEDNN_OPTS=0`.\n",
      "2024-02-14 15:13:26.839627: E external/local_xla/xla/stream_executor/cuda/cuda_dnn.cc:9261] Unable to register cuDNN factory: Attempting to register factory for plugin cuDNN when one has already been registered\n",
      "2024-02-14 15:13:26.839649: E external/local_xla/xla/stream_executor/cuda/cuda_fft.cc:607] Unable to register cuFFT factory: Attempting to register factory for plugin cuFFT when one has already been registered\n",
      "2024-02-14 15:13:26.840442: E external/local_xla/xla/stream_executor/cuda/cuda_blas.cc:1515] Unable to register cuBLAS factory: Attempting to register factory for plugin cuBLAS when one has already been registered\n",
      "2024-02-14 15:13:26.845483: I tensorflow/core/platform/cpu_feature_guard.cc:182] This TensorFlow binary is optimized to use available CPU instructions in performance-critical operations.\n",
      "To enable the following instructions: AVX2 AVX512F AVX512_VNNI FMA, in other operations, rebuild TensorFlow with the appropriate compiler flags.\n",
      "2024-02-14 15:13:27.560746: W tensorflow/compiler/tf2tensorrt/utils/py_utils.cc:38] TF-TRT Warning: Could not find TensorRT\n"
     ]
    }
   ],
   "source": [
    "import tensorflow as tf\n",
    "from tensorflow import keras\n",
    "\n",
    "from qdanalysis.models import adapt_resnet50\n",
    "\n",
    "import pathlib"
   ]
  },
  {
   "cell_type": "code",
   "execution_count": 2,
   "metadata": {},
   "outputs": [
    {
     "data": {
      "text/plain": [
       "[PhysicalDevice(name='/physical_device:GPU:0', device_type='GPU')]"
      ]
     },
     "execution_count": 2,
     "metadata": {},
     "output_type": "execute_result"
    }
   ],
   "source": [
    "tf.config.list_physical_devices('GPU')"
   ]
  },
  {
   "cell_type": "code",
   "execution_count": 3,
   "metadata": {},
   "outputs": [],
   "source": [
    "train_dir = './output/cerug_test_processing/CN'\n",
    "test_dir = './output/cerug_test_processing/EN'"
   ]
  },
  {
   "cell_type": "code",
   "execution_count": 5,
   "metadata": {},
   "outputs": [
    {
     "name": "stdout",
     "output_type": "stream",
     "text": [
      "Found 18281 files belonging to 3 classes.\n",
      "Using 14625 files for training.\n"
     ]
    }
   ],
   "source": [
    "label_mode = 'categorical'\n",
    "#shape image will be resized to (figure out ideal values later)\n",
    "input_shape = (128, 128, 3)\n",
    "seed = 42\n",
    "validation_split = 0.2\n",
    "\n",
    "#due to nature of data, the test and train splits are defined beforehand\n",
    "train_data = keras.preprocessing.image_dataset_from_directory(train_dir, \n",
    "                                                              label_mode=label_mode, \n",
    "                                                              image_size=input_shape[:2], \n",
    "                                                              seed=seed, \n",
    "                                                              validation_split=validation_split, \n",
    "                                                              subset='training')\n",
    "writer_classes = train_data.class_names"
   ]
  },
  {
   "cell_type": "code",
   "execution_count": 4,
   "metadata": {},
   "outputs": [
    {
     "data": {
      "text/plain": [
       "['Writer0202', 'Writer0909']"
      ]
     },
     "execution_count": 4,
     "metadata": {},
     "output_type": "execute_result"
    }
   ],
   "source": [
    "writer_classes"
   ]
  },
  {
   "cell_type": "code",
   "execution_count": 5,
   "metadata": {},
   "outputs": [
    {
     "name": "stdout",
     "output_type": "stream",
     "text": [
      "Found 1930 files belonging to 2 classes.\n",
      "Using 386 files for validation.\n"
     ]
    }
   ],
   "source": [
    "validation_data = keras.preprocessing.image_dataset_from_directory(train_dir,\n",
    "                                                                   label_mode=label_mode,\n",
    "                                                                   image_size=input_shape[:2],\n",
    "                                                                   seed=seed,\n",
    "                                                                   validation_split=validation_split,\n",
    "                                                                   subset='validation')"
   ]
  },
  {
   "cell_type": "code",
   "execution_count": 6,
   "metadata": {},
   "outputs": [
    {
     "name": "stdout",
     "output_type": "stream",
     "text": [
      "Model: \"model\"\n",
      "_________________________________________________________________\n",
      " Layer (type)                Output Shape              Param #   \n",
      "=================================================================\n",
      " input_2 (InputLayer)        [(None, 128, 128, 3)]     0         \n",
      "                                                                 \n",
      " resnet50 (Functional)       (None, 4, 4, 2048)        23587712  \n",
      "                                                                 \n",
      " global_average_pooling2d (G  (None, 2048)             0         \n",
      " lobalAveragePooling2D)                                          \n",
      "                                                                 \n",
      " dense (Dense)               (None, 1000)              2049000   \n",
      "                                                                 \n",
      " dense_1 (Dense)             (None, 2)                 2002      \n",
      "                                                                 \n",
      "=================================================================\n",
      "Total params: 25,638,714\n",
      "Trainable params: 2,051,002\n",
      "Non-trainable params: 23,587,712\n",
      "_________________________________________________________________\n"
     ]
    }
   ],
   "source": [
    "model = adapt_resnet50(input_shape, len(writer_classes))\n",
    "\n",
    "model.summary()"
   ]
  },
  {
   "cell_type": "code",
   "execution_count": 7,
   "metadata": {},
   "outputs": [],
   "source": [
    "# optimizer and loss taken from https://stackoverflow.com/questions/71704268/using-tf-keras-utils-image-dataset-from-directory-with-label-list\n",
    "optimizer = tf.keras.optimizers.Nadam(\n",
    "    learning_rate=0.00001, beta_1=0.9, beta_2=0.999, epsilon=1e-07,\n",
    "    name='Nadam'\n",
    ")\n",
    "\n",
    "lossfn = tf.keras.losses.CategoricalCrossentropy()\n",
    "\n",
    "metrics = [\n",
    "    keras.metrics.CategoricalAccuracy(),\n",
    "    keras.metrics.Precision(),\n",
    "    keras.metrics.Recall()\n",
    "]\n",
    "\n",
    "model.compile(optimizer=optimizer, loss=lossfn, metrics=metrics)"
   ]
  },
  {
   "cell_type": "code",
   "execution_count": 8,
   "metadata": {},
   "outputs": [
    {
     "name": "stdout",
     "output_type": "stream",
     "text": [
      "Epoch 1/10\n"
     ]
    },
    {
     "name": "stdout",
     "output_type": "stream",
     "text": [
      "49/49 [==============================] - 29s 500ms/step - loss: 0.6940 - categorical_accuracy: 0.6159 - precision: 0.6159 - recall: 0.6159 - val_loss: 0.6522 - val_categorical_accuracy: 0.6580 - val_precision: 0.6580 - val_recall: 0.6580\n",
      "Epoch 2/10\n",
      "49/49 [==============================] - 23s 460ms/step - loss: 0.6491 - categorical_accuracy: 0.6418 - precision: 0.6418 - recall: 0.6418 - val_loss: 0.6423 - val_categorical_accuracy: 0.6788 - val_precision: 0.6788 - val_recall: 0.6788\n",
      "Epoch 3/10\n",
      "49/49 [==============================] - 22s 443ms/step - loss: 0.6258 - categorical_accuracy: 0.6535 - precision: 0.6535 - recall: 0.6535 - val_loss: 0.6392 - val_categorical_accuracy: 0.6684 - val_precision: 0.6684 - val_recall: 0.6684\n",
      "Epoch 4/10\n",
      "49/49 [==============================] - 22s 445ms/step - loss: 0.6090 - categorical_accuracy: 0.6716 - precision: 0.6716 - recall: 0.6716 - val_loss: 0.6338 - val_categorical_accuracy: 0.6762 - val_precision: 0.6762 - val_recall: 0.6762\n",
      "Epoch 5/10\n",
      "49/49 [==============================] - 22s 449ms/step - loss: 0.5952 - categorical_accuracy: 0.6801 - precision: 0.6801 - recall: 0.6801 - val_loss: 0.6373 - val_categorical_accuracy: 0.6606 - val_precision: 0.6606 - val_recall: 0.6606\n",
      "Epoch 6/10\n",
      "49/49 [==============================] - 22s 444ms/step - loss: 0.5830 - categorical_accuracy: 0.6988 - precision: 0.6988 - recall: 0.6988 - val_loss: 0.6367 - val_categorical_accuracy: 0.6658 - val_precision: 0.6658 - val_recall: 0.6658\n",
      "Epoch 7/10\n",
      "49/49 [==============================] - 22s 453ms/step - loss: 0.5732 - categorical_accuracy: 0.6975 - precision: 0.6975 - recall: 0.6975 - val_loss: 0.6280 - val_categorical_accuracy: 0.6788 - val_precision: 0.6788 - val_recall: 0.6788\n",
      "Epoch 8/10\n",
      "49/49 [==============================] - 22s 457ms/step - loss: 0.5644 - categorical_accuracy: 0.7073 - precision: 0.7073 - recall: 0.7073 - val_loss: 0.6241 - val_categorical_accuracy: 0.6943 - val_precision: 0.6943 - val_recall: 0.6943\n",
      "Epoch 9/10\n",
      "49/49 [==============================] - 22s 443ms/step - loss: 0.5558 - categorical_accuracy: 0.7150 - precision: 0.7150 - recall: 0.7150 - val_loss: 0.6269 - val_categorical_accuracy: 0.6891 - val_precision: 0.6891 - val_recall: 0.6891\n",
      "Epoch 10/10\n",
      "49/49 [==============================] - 21s 436ms/step - loss: 0.5493 - categorical_accuracy: 0.7254 - precision: 0.7254 - recall: 0.7254 - val_loss: 0.6258 - val_categorical_accuracy: 0.6969 - val_precision: 0.6969 - val_recall: 0.6969\n"
     ]
    }
   ],
   "source": [
    "epochs = 10\n",
    "history = model.fit(train_data, epochs=epochs, validation_data=validation_data)"
   ]
  },
  {
   "cell_type": "code",
   "execution_count": null,
   "metadata": {},
   "outputs": [],
   "source": []
  }
 ],
 "metadata": {
  "kernelspec": {
   "display_name": "mastersthesis",
   "language": "python",
   "name": "python3"
  },
  "language_info": {
   "codemirror_mode": {
    "name": "ipython",
    "version": 3
   },
   "file_extension": ".py",
   "mimetype": "text/x-python",
   "name": "python",
   "nbconvert_exporter": "python",
   "pygments_lexer": "ipython3",
   "version": "3.10.13"
  }
 },
 "nbformat": 4,
 "nbformat_minor": 2
}
