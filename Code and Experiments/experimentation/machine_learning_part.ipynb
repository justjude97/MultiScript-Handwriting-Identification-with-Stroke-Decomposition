{
 "cells": [
  {
   "cell_type": "markdown",
   "metadata": {},
   "source": [
    "# Machine Learning Part\n",
    "* goal of this notebook is to develop code for the machine learning portion\n",
    "    * dataset loading\n",
    "    * model\n",
    "    * evaluation metrics\n",
    "* code should be added into qdanalysis and refactored aferwards"
   ]
  },
  {
   "cell_type": "code",
   "execution_count": 1,
   "metadata": {},
   "outputs": [],
   "source": [
    "import tensorflow as tf\n",
    "from tensorflow import keras\n",
    "\n",
    "from qdanalysis.models import adapt_resnet50\n",
    "\n",
    "import pathlib"
   ]
  },
  {
   "cell_type": "code",
   "execution_count": 2,
   "metadata": {},
   "outputs": [],
   "source": [
    "train_dir = './output/cerug_test_processing/EN'\n",
    "test_dir = './output/cerug_test_processing/CN'"
   ]
  },
  {
   "cell_type": "code",
   "execution_count": 3,
   "metadata": {},
   "outputs": [
    {
     "name": "stdout",
     "output_type": "stream",
     "text": [
      "Found 1930 files belonging to 2 classes.\n",
      "Using 1544 files for training.\n"
     ]
    }
   ],
   "source": [
    "label_mode = 'categorical'\n",
    "#shape image will be resized to (figure out ideal values later)\n",
    "input_shape = (128, 128, 3)\n",
    "seed = 42\n",
    "validation_split = 0.2\n",
    "\n",
    "#due to nature of data, the test and train splits are defined beforehand\n",
    "train_data = keras.preprocessing.image_dataset_from_directory(train_dir, \n",
    "                                                              label_mode=label_mode, \n",
    "                                                              image_size=input_shape[:2], \n",
    "                                                              seed=seed, \n",
    "                                                              validation_split=validation_split, \n",
    "                                                              subset='training')\n",
    "writer_classes = train_data.class_names"
   ]
  },
  {
   "cell_type": "code",
   "execution_count": 4,
   "metadata": {},
   "outputs": [
    {
     "data": {
      "text/plain": [
       "['Writer0202', 'Writer0909']"
      ]
     },
     "execution_count": 4,
     "metadata": {},
     "output_type": "execute_result"
    }
   ],
   "source": [
    "writer_classes"
   ]
  },
  {
   "cell_type": "code",
   "execution_count": 5,
   "metadata": {},
   "outputs": [
    {
     "name": "stdout",
     "output_type": "stream",
     "text": [
      "Found 1930 files belonging to 2 classes.\n",
      "Using 386 files for validation.\n"
     ]
    }
   ],
   "source": [
    "validation_data = keras.preprocessing.image_dataset_from_directory(train_dir,\n",
    "                                                                   label_mode=label_mode,\n",
    "                                                                   image_size=input_shape[:2],\n",
    "                                                                   seed=seed,\n",
    "                                                                   validation_split=validation_split,\n",
    "                                                                   subset='validation')"
   ]
  },
  {
   "cell_type": "code",
   "execution_count": 6,
   "metadata": {},
   "outputs": [
    {
     "name": "stdout",
     "output_type": "stream",
     "text": [
      "Model: \"model\"\n",
      "_________________________________________________________________\n",
      " Layer (type)                Output Shape              Param #   \n",
      "=================================================================\n",
      " input_2 (InputLayer)        [(None, 128, 128, 3)]     0         \n",
      "                                                                 \n",
      " resnet50 (Functional)       (None, 4, 4, 2048)        23587712  \n",
      "                                                                 \n",
      " global_average_pooling2d (G  (None, 2048)             0         \n",
      " lobalAveragePooling2D)                                          \n",
      "                                                                 \n",
      " dense (Dense)               (None, 1000)              2049000   \n",
      "                                                                 \n",
      " dense_1 (Dense)             (None, 2)                 2002      \n",
      "                                                                 \n",
      "=================================================================\n",
      "Total params: 25,638,714\n",
      "Trainable params: 2,051,002\n",
      "Non-trainable params: 23,587,712\n",
      "_________________________________________________________________\n"
     ]
    }
   ],
   "source": [
    "model = adapt_resnet50(input_shape, len(writer_classes))\n",
    "\n",
    "model.summary()"
   ]
  },
  {
   "cell_type": "code",
   "execution_count": 11,
   "metadata": {},
   "outputs": [],
   "source": [
    "# optimizer and loss taken from https://stackoverflow.com/questions/71704268/using-tf-keras-utils-image-dataset-from-directory-with-label-list\n",
    "optimizer = tf.keras.optimizers.Nadam(\n",
    "    learning_rate=0.00001, beta_1=0.9, beta_2=0.999, epsilon=1e-07,\n",
    "    name='Nadam'\n",
    ")\n",
    "\n",
    "lossfn = tf.keras.losses.CategoricalCrossentropy()\n",
    "\n",
    "metrics = [\n",
    "    keras.metrics.Accuracy(),\n",
    "    keras.metrics.Precision(),\n",
    "    keras.metrics.Recall()\n",
    "]\n",
    "\n",
    "model.compile(optimizer=optimizer, loss=lossfn, metrics=metrics)"
   ]
  },
  {
   "cell_type": "code",
   "execution_count": 12,
   "metadata": {},
   "outputs": [
    {
     "name": "stdout",
     "output_type": "stream",
     "text": [
      "Epoch 1/10\n"
     ]
    },
    {
     "name": "stdout",
     "output_type": "stream",
     "text": [
      "49/49 [==============================] - 28s 497ms/step - loss: 0.7032 - accuracy: 0.0000e+00 - precision_2: 0.5777 - recall_2: 0.5777 - val_loss: 0.6555 - val_accuracy: 0.0000e+00 - val_precision_2: 0.6347 - val_recall_2: 0.6347\n",
      "Epoch 2/10\n",
      "49/49 [==============================] - 22s 458ms/step - loss: 0.6573 - accuracy: 0.0000e+00 - precision_2: 0.6282 - recall_2: 0.6282 - val_loss: 0.6469 - val_accuracy: 0.0000e+00 - val_precision_2: 0.6347 - val_recall_2: 0.6347\n",
      "Epoch 3/10\n",
      "49/49 [==============================] - 22s 451ms/step - loss: 0.6328 - accuracy: 0.0000e+00 - precision_2: 0.6470 - recall_2: 0.6470 - val_loss: 0.6332 - val_accuracy: 0.0000e+00 - val_precision_2: 0.6503 - val_recall_2: 0.6503\n",
      "Epoch 4/10\n",
      "49/49 [==============================] - 22s 454ms/step - loss: 0.6145 - accuracy: 0.0000e+00 - precision_2: 0.6671 - recall_2: 0.6671 - val_loss: 0.6260 - val_accuracy: 0.0000e+00 - val_precision_2: 0.6632 - val_recall_2: 0.6632\n",
      "Epoch 5/10\n",
      "49/49 [==============================] - 22s 459ms/step - loss: 0.5995 - accuracy: 0.0000e+00 - precision_2: 0.6762 - recall_2: 0.6762 - val_loss: 0.6261 - val_accuracy: 0.0000e+00 - val_precision_2: 0.6736 - val_recall_2: 0.6736\n",
      "Epoch 6/10\n",
      "49/49 [==============================] - 22s 444ms/step - loss: 0.5878 - accuracy: 0.0000e+00 - precision_2: 0.6878 - recall_2: 0.6878 - val_loss: 0.6256 - val_accuracy: 0.0000e+00 - val_precision_2: 0.6710 - val_recall_2: 0.6710\n",
      "Epoch 7/10\n",
      "49/49 [==============================] - 22s 453ms/step - loss: 0.5784 - accuracy: 0.0000e+00 - precision_2: 0.7034 - recall_2: 0.7034 - val_loss: 0.6207 - val_accuracy: 0.0000e+00 - val_precision_2: 0.6839 - val_recall_2: 0.6839\n",
      "Epoch 8/10\n",
      "49/49 [==============================] - 23s 461ms/step - loss: 0.5682 - accuracy: 0.0000e+00 - precision_2: 0.7092 - recall_2: 0.7092 - val_loss: 0.6220 - val_accuracy: 0.0000e+00 - val_precision_2: 0.6839 - val_recall_2: 0.6839\n",
      "Epoch 9/10\n",
      "49/49 [==============================] - 22s 449ms/step - loss: 0.5601 - accuracy: 0.0000e+00 - precision_2: 0.7111 - recall_2: 0.7111 - val_loss: 0.6204 - val_accuracy: 0.0000e+00 - val_precision_2: 0.6969 - val_recall_2: 0.6969\n",
      "Epoch 10/10\n",
      "49/49 [==============================] - 23s 462ms/step - loss: 0.5514 - accuracy: 0.0000e+00 - precision_2: 0.7176 - recall_2: 0.7176 - val_loss: 0.6259 - val_accuracy: 0.0000e+00 - val_precision_2: 0.6839 - val_recall_2: 0.6839\n"
     ]
    },
    {
     "data": {
      "text/plain": [
       "<keras.callbacks.History at 0x1fff346fdf0>"
      ]
     },
     "execution_count": 12,
     "metadata": {},
     "output_type": "execute_result"
    }
   ],
   "source": [
    "epochs = 10\n",
    "model.fit(train_data, epochs=epochs, validation_data=validation_data)"
   ]
  },
  {
   "cell_type": "code",
   "execution_count": null,
   "metadata": {},
   "outputs": [],
   "source": []
  }
 ],
 "metadata": {
  "kernelspec": {
   "display_name": "mastersthesis",
   "language": "python",
   "name": "python3"
  },
  "language_info": {
   "codemirror_mode": {
    "name": "ipython",
    "version": 3
   },
   "file_extension": ".py",
   "mimetype": "text/x-python",
   "name": "python",
   "nbconvert_exporter": "python",
   "pygments_lexer": "ipython3",
   "version": "3.10.13"
  }
 },
 "nbformat": 4,
 "nbformat_minor": 2
}
