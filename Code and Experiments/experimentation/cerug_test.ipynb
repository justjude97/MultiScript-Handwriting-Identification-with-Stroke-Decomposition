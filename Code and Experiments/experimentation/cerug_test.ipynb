{
 "cells": [
  {
   "cell_type": "code",
   "execution_count": 1,
   "metadata": {},
   "outputs": [
    {
     "name": "stderr",
     "output_type": "stream",
     "text": [
      "2023-11-07 12:20:09.736416: I tensorflow/stream_executor/platform/default/dso_loader.cc:49] Successfully opened dynamic library libcudart.so.10.1\n"
     ]
    }
   ],
   "source": [
    "%load_ext autoreload\n",
    "%autoreload 2\n",
    "\n",
    "import cv2 as cv\n",
    "import re\n",
    "import matplotlib as mpl\n",
    "import matplotlib.pyplot as plt\n",
    "import numpy as np\n",
    "\n",
    "from qdanalysis.strokedecomposition import simple_stroke_segment\n",
    "import pathlib\n",
    "\n",
    "import tensorflow as tf\n",
    "import tensorflow.keras as keras"
   ]
  },
  {
   "cell_type": "code",
   "execution_count": 2,
   "metadata": {},
   "outputs": [],
   "source": [
    "#to make generated figures easier to view\n",
    "mpl.rcParams['figure.dpi']=300"
   ]
  },
  {
   "cell_type": "code",
   "execution_count": 3,
   "metadata": {},
   "outputs": [
    {
     "data": {
      "text/plain": [
       "[PosixPath('CERUG/Writer0909_03-01.ppm'),\n",
       " PosixPath('CERUG/Writer0202_03-02.ppm'),\n",
       " PosixPath('CERUG/Writer0202_01.ppm')]"
      ]
     },
     "execution_count": 3,
     "metadata": {},
     "output_type": "execute_result"
    }
   ],
   "source": [
    "#path_name = '../datasets/CERUG'\n",
    "path_name = './CERUG'\n",
    "path = pathlib.Path(path_name)\n",
    "files = [fp for fp in path.iterdir()]\n",
    "files"
   ]
  },
  {
   "cell_type": "raw",
   "metadata": {},
   "source": [
    "pathname = str(files[2])\n",
    "parts = pathname.split('\\\\')\n",
    "print(\"parts of filepath: \", parts)\n",
    "filename = parts[-1]\n",
    "print(\"filename: \", filename)\n",
    "\n",
    "re.search(r'(\\d*)_(\\d*)(-\\d*)?', filename)[3] == None"
   ]
  },
  {
   "cell_type": "code",
   "execution_count": 4,
   "metadata": {},
   "outputs": [
    {
     "name": "stdout",
     "output_type": "stream",
     "text": [
      "Writer0909_03-01\n",
      "[[0 0 0 ... 0 0 0]\n",
      " [0 0 0 ... 0 0 0]\n",
      " [0 0 0 ... 0 0 0]\n",
      " ...\n",
      " [0 0 0 ... 0 0 0]\n",
      " [0 0 0 ... 0 0 0]\n",
      " [0 0 0 ... 0 0 0]]\n",
      "Writer0202_03-02\n",
      "[[0 0 0 ... 0 0 0]\n",
      " [0 0 0 ... 0 0 0]\n",
      " [0 0 0 ... 0 0 0]\n",
      " ...\n",
      " [0 0 0 ... 0 0 0]\n",
      " [0 0 0 ... 0 0 0]\n",
      " [0 0 0 ... 0 0 0]]\n",
      "Writer0202_01\n",
      "[[0 0 0 ... 0 0 0]\n",
      " [0 0 0 ... 0 0 0]\n",
      " [0 0 0 ... 0 0 0]\n",
      " ...\n",
      " [0 0 0 ... 0 0 1]\n",
      " [0 0 0 ... 0 0 1]\n",
      " [0 0 0 ... 0 0 1]]\n"
     ]
    }
   ],
   "source": [
    "from skimage.morphology import skeletonize\n",
    "#associative arrays, temp\n",
    "writers = []\n",
    "pages = []\n",
    "page_part = []\n",
    "strokes = []\n",
    "\n",
    "for file in path.iterdir():\n",
    "    filename = file.stem\n",
    "    print(filename)\n",
    "\n",
    "    writer_no, page_no, page_part_no = re.search(r'(\\d*)_(\\d*)-?(\\d*)?', filename).groups()\n",
    "    writers.append(writer_no)\n",
    "    pages.append(page_no)\n",
    "    page_part.append(page_part_no)\n",
    "\n",
    "    #open image and process strokes\n",
    "    kernel_size = (5, 5)\n",
    "    image = cv.imread(str(file), cv.IMREAD_GRAYSCALE)\n",
    "    image = cv.GaussianBlur(image, kernel_size, 1.5)\n",
    "    outfile = './output/' + filename  + '.png'\n",
    "    cv.imwrite(outfile, image)\n",
    "\n",
    "    temp = cv.threshold(image, 0, 1, cv.THRESH_BINARY_INV + cv.THRESH_OTSU)[1]\n",
    "    print(temp)\n",
    "    temp = temp*255\n",
    "    outfile = './output/' + filename + \"_skele_\" + '.png'\n",
    "    \n",
    "    cv.imwrite(outfile, temp)\n",
    "\n",
    "    strokes.append(simple_stroke_segment(image))"
   ]
  },
  {
   "cell_type": "code",
   "execution_count": 5,
   "metadata": {},
   "outputs": [
    {
     "data": {
      "text/plain": [
       "array([469,  39])"
      ]
     },
     "execution_count": 5,
     "metadata": {},
     "output_type": "execute_result"
    }
   ],
   "source": [
    "writer_1_stroke_sz = map(lambda x: x.shape, strokes[0])\n",
    "np.array(list(writer_1_stroke_sz)).max(axis=0)"
   ]
  },
  {
   "cell_type": "raw",
   "metadata": {},
   "source": [
    "import pandas as pd\n",
    "stroke_df = pd.DataFrame(columns=['writer', 'image'])\n",
    "for idx, key in enumerate(writers):\n",
    "    doc_strokes = {\"writer\": [writers[idx]]*len(strokes[idx]), \"image\": strokes[idx]}\n",
    "    \n",
    "    stroke_df = pd.concat([stroke_df, pd.DataFrame(doc_strokes)], axis=0)"
   ]
  },
  {
   "cell_type": "code",
   "execution_count": 6,
   "metadata": {},
   "outputs": [],
   "source": [
    "#https://gist.github.com/IdeaKing/11cf5e146d23c5bb219ba3508cca89ec\n",
    "from typing import Tuple\n",
    "def resize_with_pad(image: np.array, \n",
    "                    new_shape: Tuple[int, int], \n",
    "                    padding_color: Tuple[int] = (255, 255, 255)) -> np.array:\n",
    "    \"\"\"Maintains aspect ratio and resizes with padding.\n",
    "    Params:\n",
    "        image: Image to be resized.\n",
    "        new_shape: Expected (width, height) of new image.\n",
    "        padding_color: Tuple in BGR of padding color\n",
    "    Returns:\n",
    "        image: Resized image with padding\n",
    "    \"\"\"\n",
    "    original_shape = (image.shape[1], image.shape[0])\n",
    "    ratio = float(max(new_shape))/max(original_shape)\n",
    "    new_size = tuple([int(x*ratio) for x in original_shape])\n",
    "    image = cv.resize(image, new_size)\n",
    "    delta_w = new_shape[0] - new_size[0]\n",
    "    delta_h = new_shape[1] - new_size[1]\n",
    "    top, bottom = delta_h//2, delta_h-(delta_h//2)\n",
    "    left, right = delta_w//2, delta_w-(delta_w//2)\n",
    "    image = cv.copyMakeBorder(image, top, bottom, left, right, cv.BORDER_CONSTANT, value=padding_color)\n",
    "    return image"
   ]
  },
  {
   "cell_type": "code",
   "execution_count": 7,
   "metadata": {},
   "outputs": [],
   "source": [
    "size = 64\n",
    "images_padded = []\n",
    "\n",
    "image_labels = np.ndarray(shape=(0, 2), dtype=float)\n",
    "temp_dict = {'0909': [1., 0.], '0202': [0., 1.]}\n",
    "\n",
    "for idx, stroke_list in enumerate(strokes):\n",
    "    for stroke in stroke_list:\n",
    "        if max(stroke.shape) > size:\n",
    "            continue\n",
    "        \n",
    "        image_labels = np.append(image_labels, np.array(temp_dict[writers[idx]]).reshape(1, 2), axis=0)\n",
    "\n",
    "        stroke_colored = cv.cvtColor(stroke.astype(np.uint8), cv.COLOR_GRAY2RGB)\n",
    "        stroke_padded = resize_with_pad(stroke_colored, (size, size), padding_color=(0, 0, 0))\n",
    "        images_padded.append(stroke_padded.astype(float))"
   ]
  },
  {
   "cell_type": "code",
   "execution_count": 8,
   "metadata": {},
   "outputs": [
    {
     "data": {
      "text/plain": [
       "(4625, 64, 64, 3)"
      ]
     },
     "execution_count": 8,
     "metadata": {},
     "output_type": "execute_result"
    }
   ],
   "source": [
    "images_train = np.array(images_padded)\n",
    "images_train.shape"
   ]
  },
  {
   "cell_type": "code",
   "execution_count": 9,
   "metadata": {},
   "outputs": [
    {
     "data": {
      "text/plain": [
       "(4625, 2)"
      ]
     },
     "execution_count": 9,
     "metadata": {},
     "output_type": "execute_result"
    }
   ],
   "source": [
    "image_labels.shape"
   ]
  },
  {
   "cell_type": "raw",
   "metadata": {},
   "source": [
    "#temp solution to stroke decomp bug\n",
    "from scipy.stats import zscore\n",
    "import numpy as np\n",
    "\n",
    "height_scores = zscore(size_df['height'])\n",
    "width_scores = zscore(size_df['width'])\n",
    "size_df_filtered = size_df[np.logical_and(np.abs(height_scores) < 3, np.abs(width_scores) < 3)]"
   ]
  },
  {
   "cell_type": "code",
   "execution_count": 10,
   "metadata": {},
   "outputs": [
    {
     "name": "stderr",
     "output_type": "stream",
     "text": [
      "2023-11-07 12:20:23.552128: I tensorflow/compiler/jit/xla_cpu_device.cc:41] Not creating XLA devices, tf_xla_enable_xla_devices not set\n",
      "2023-11-07 12:20:23.552990: I tensorflow/stream_executor/platform/default/dso_loader.cc:49] Successfully opened dynamic library libcuda.so.1\n",
      "2023-11-07 12:20:23.596088: I tensorflow/core/common_runtime/gpu/gpu_device.cc:1720] Found device 0 with properties: \n",
      "pciBusID: 0000:65:00.0 name: NVIDIA TITAN RTX computeCapability: 7.5\n",
      "coreClock: 1.77GHz coreCount: 72 deviceMemorySize: 23.65GiB deviceMemoryBandwidth: 625.94GiB/s\n",
      "2023-11-07 12:20:23.596164: I tensorflow/stream_executor/platform/default/dso_loader.cc:49] Successfully opened dynamic library libcudart.so.10.1\n",
      "2023-11-07 12:20:23.612146: I tensorflow/stream_executor/platform/default/dso_loader.cc:49] Successfully opened dynamic library libcublas.so.10\n",
      "2023-11-07 12:20:23.612288: I tensorflow/stream_executor/platform/default/dso_loader.cc:49] Successfully opened dynamic library libcublasLt.so.10\n",
      "2023-11-07 12:20:23.621224: I tensorflow/stream_executor/platform/default/dso_loader.cc:49] Successfully opened dynamic library libcufft.so.10\n",
      "2023-11-07 12:20:23.623462: I tensorflow/stream_executor/platform/default/dso_loader.cc:49] Successfully opened dynamic library libcurand.so.10\n",
      "2023-11-07 12:20:23.639327: I tensorflow/stream_executor/platform/default/dso_loader.cc:49] Successfully opened dynamic library libcusolver.so.10\n",
      "2023-11-07 12:20:23.641871: I tensorflow/stream_executor/platform/default/dso_loader.cc:49] Successfully opened dynamic library libcusparse.so.10\n",
      "2023-11-07 12:20:23.671614: I tensorflow/stream_executor/platform/default/dso_loader.cc:49] Successfully opened dynamic library libcudnn.so.7\n",
      "2023-11-07 12:20:23.673107: I tensorflow/core/common_runtime/gpu/gpu_device.cc:1862] Adding visible gpu devices: 0\n",
      "2023-11-07 12:20:23.673477: I tensorflow/core/platform/cpu_feature_guard.cc:142] This TensorFlow binary is optimized with oneAPI Deep Neural Network Library (oneDNN) to use the following CPU instructions in performance-critical operations:  SSE4.1 SSE4.2 AVX AVX2 AVX512F FMA\n",
      "To enable them in other operations, rebuild TensorFlow with the appropriate compiler flags.\n",
      "2023-11-07 12:20:23.674950: I tensorflow/compiler/jit/xla_gpu_device.cc:99] Not creating XLA devices, tf_xla_enable_xla_devices not set\n",
      "2023-11-07 12:20:23.675874: I tensorflow/core/common_runtime/gpu/gpu_device.cc:1720] Found device 0 with properties: \n",
      "pciBusID: 0000:65:00.0 name: NVIDIA TITAN RTX computeCapability: 7.5\n",
      "coreClock: 1.77GHz coreCount: 72 deviceMemorySize: 23.65GiB deviceMemoryBandwidth: 625.94GiB/s\n",
      "2023-11-07 12:20:23.675973: I tensorflow/stream_executor/platform/default/dso_loader.cc:49] Successfully opened dynamic library libcudart.so.10.1\n",
      "2023-11-07 12:20:23.676012: I tensorflow/stream_executor/platform/default/dso_loader.cc:49] Successfully opened dynamic library libcublas.so.10\n",
      "2023-11-07 12:20:23.676030: I tensorflow/stream_executor/platform/default/dso_loader.cc:49] Successfully opened dynamic library libcublasLt.so.10\n",
      "2023-11-07 12:20:23.676047: I tensorflow/stream_executor/platform/default/dso_loader.cc:49] Successfully opened dynamic library libcufft.so.10\n",
      "2023-11-07 12:20:23.676064: I tensorflow/stream_executor/platform/default/dso_loader.cc:49] Successfully opened dynamic library libcurand.so.10\n",
      "2023-11-07 12:20:23.676080: I tensorflow/stream_executor/platform/default/dso_loader.cc:49] Successfully opened dynamic library libcusolver.so.10\n",
      "2023-11-07 12:20:23.676097: I tensorflow/stream_executor/platform/default/dso_loader.cc:49] Successfully opened dynamic library libcusparse.so.10\n",
      "2023-11-07 12:20:23.676114: I tensorflow/stream_executor/platform/default/dso_loader.cc:49] Successfully opened dynamic library libcudnn.so.7\n",
      "2023-11-07 12:20:23.677633: I tensorflow/core/common_runtime/gpu/gpu_device.cc:1862] Adding visible gpu devices: 0\n",
      "2023-11-07 12:20:23.677895: I tensorflow/stream_executor/platform/default/dso_loader.cc:49] Successfully opened dynamic library libcudart.so.10.1\n",
      "2023-11-07 12:20:24.387935: I tensorflow/core/common_runtime/gpu/gpu_device.cc:1261] Device interconnect StreamExecutor with strength 1 edge matrix:\n",
      "2023-11-07 12:20:24.387958: I tensorflow/core/common_runtime/gpu/gpu_device.cc:1267]      0 \n",
      "2023-11-07 12:20:24.387963: I tensorflow/core/common_runtime/gpu/gpu_device.cc:1280] 0:   N \n",
      "2023-11-07 12:20:24.390042: I tensorflow/core/common_runtime/gpu/gpu_device.cc:1406] Created TensorFlow device (/job:localhost/replica:0/task:0/device:GPU:0 with 21825 MB memory) -> physical GPU (device: 0, name: NVIDIA TITAN RTX, pci bus id: 0000:65:00.0, compute capability: 7.5)\n"
     ]
    }
   ],
   "source": [
    "from qdanalysis.models import adapt_resnet50\n",
    "\n",
    "model = adapt_resnet50((size, size, 3), 2)\n",
    "model.compile(optimizer='nadam', loss=keras.losses.binary_crossentropy, metrics=['accuracy', 'mse'])"
   ]
  },
  {
   "cell_type": "code",
   "execution_count": 11,
   "metadata": {},
   "outputs": [
    {
     "name": "stderr",
     "output_type": "stream",
     "text": [
      "2023-11-07 12:20:25.843151: I tensorflow/compiler/mlir/mlir_graph_optimization_pass.cc:116] None of the MLIR optimization passes are enabled (registered 2)\n",
      "2023-11-07 12:20:25.864511: I tensorflow/core/platform/profile_utils/cpu_utils.cc:112] CPU Frequency: 3000000000 Hz\n"
     ]
    },
    {
     "name": "stdout",
     "output_type": "stream",
     "text": [
      "Epoch 1/100\n"
     ]
    },
    {
     "name": "stderr",
     "output_type": "stream",
     "text": [
      "2023-11-07 12:20:27.779985: I tensorflow/stream_executor/platform/default/dso_loader.cc:49] Successfully opened dynamic library libcublas.so.10\n",
      "2023-11-07 12:20:28.034342: I tensorflow/stream_executor/platform/default/dso_loader.cc:49] Successfully opened dynamic library libcudnn.so.7\n",
      "2023-11-07 12:20:29.104065: W tensorflow/stream_executor/gpu/asm_compiler.cc:63] Running ptxas --version returned 256\n",
      "2023-11-07 12:20:29.166156: W tensorflow/stream_executor/gpu/redzone_allocator.cc:314] Internal: ptxas exited with non-zero error code 256, output: \n",
      "Relying on driver to perform ptx compilation. \n",
      "Modify $PATH to customize ptxas location.\n",
      "This message will be only logged once.\n"
     ]
    },
    {
     "name": "stdout",
     "output_type": "stream",
     "text": [
      "116/116 [==============================] - 39s 217ms/step - loss: 0.5643 - accuracy: 0.7559 - mse: 0.2029 - val_loss: 0.5636 - val_accuracy: 0.7805 - val_mse: 0.1610\n",
      "Epoch 2/100\n",
      "116/116 [==============================] - 1s 11ms/step - loss: 0.5378 - accuracy: 0.7498 - mse: 0.1912 - val_loss: 0.1753 - val_accuracy: 0.9989 - val_mse: 0.0053\n",
      "Epoch 3/100\n",
      "116/116 [==============================] - 1s 11ms/step - loss: 0.5373 - accuracy: 0.7461 - mse: 0.1955 - val_loss: 0.3120 - val_accuracy: 0.9697 - val_mse: 0.0407\n",
      "Epoch 4/100\n",
      "116/116 [==============================] - 1s 11ms/step - loss: 0.5310 - accuracy: 0.7436 - mse: 0.1914 - val_loss: 0.2472 - val_accuracy: 0.9914 - val_mse: 0.0219\n",
      "Epoch 5/100\n",
      "116/116 [==============================] - 1s 11ms/step - loss: 0.5249 - accuracy: 0.7443 - mse: 0.1881 - val_loss: 0.3627 - val_accuracy: 0.9276 - val_mse: 0.0638\n",
      "Epoch 6/100\n",
      "116/116 [==============================] - 1s 11ms/step - loss: 0.5130 - accuracy: 0.7593 - mse: 0.1815 - val_loss: 0.2817 - val_accuracy: 0.9741 - val_mse: 0.0308\n",
      "Epoch 7/100\n",
      "116/116 [==============================] - 1s 11ms/step - loss: 0.5144 - accuracy: 0.7595 - mse: 0.1832 - val_loss: 0.2656 - val_accuracy: 0.9654 - val_mse: 0.0328\n",
      "Epoch 8/100\n",
      "116/116 [==============================] - 1s 11ms/step - loss: 0.5120 - accuracy: 0.7663 - mse: 0.1819 - val_loss: 0.1912 - val_accuracy: 0.9924 - val_mse: 0.0122\n",
      "Epoch 9/100\n",
      "116/116 [==============================] - 1s 11ms/step - loss: 0.4828 - accuracy: 0.7652 - mse: 0.1702 - val_loss: 0.2843 - val_accuracy: 0.9481 - val_mse: 0.0426\n",
      "Epoch 10/100\n",
      "116/116 [==============================] - 1s 11ms/step - loss: 0.4924 - accuracy: 0.7634 - mse: 0.1727 - val_loss: 0.1882 - val_accuracy: 0.9881 - val_mse: 0.0140\n",
      "Epoch 11/100\n",
      "116/116 [==============================] - 1s 11ms/step - loss: 0.4804 - accuracy: 0.7720 - mse: 0.1683 - val_loss: 0.2632 - val_accuracy: 0.9730 - val_mse: 0.0313\n",
      "Epoch 12/100\n",
      "116/116 [==============================] - 1s 11ms/step - loss: 0.4797 - accuracy: 0.7780 - mse: 0.1644 - val_loss: 0.3179 - val_accuracy: 0.9092 - val_mse: 0.0701\n",
      "Epoch 13/100\n",
      "116/116 [==============================] - 1s 11ms/step - loss: 0.4709 - accuracy: 0.7760 - mse: 0.1652 - val_loss: 0.4924 - val_accuracy: 0.7730 - val_mse: 0.1605\n",
      "Epoch 14/100\n",
      "116/116 [==============================] - 1s 11ms/step - loss: 0.4681 - accuracy: 0.7819 - mse: 0.1625 - val_loss: 0.2313 - val_accuracy: 0.9632 - val_mse: 0.0314\n",
      "Epoch 15/100\n",
      "116/116 [==============================] - 1s 11ms/step - loss: 0.4467 - accuracy: 0.7961 - mse: 0.1538 - val_loss: 0.2635 - val_accuracy: 0.9395 - val_mse: 0.0470\n",
      "Epoch 16/100\n",
      "116/116 [==============================] - 1s 11ms/step - loss: 0.4470 - accuracy: 0.7977 - mse: 0.1541 - val_loss: 0.3665 - val_accuracy: 0.8951 - val_mse: 0.0812\n",
      "Epoch 17/100\n",
      "116/116 [==============================] - 1s 11ms/step - loss: 0.4415 - accuracy: 0.7944 - mse: 0.1502 - val_loss: 0.3660 - val_accuracy: 0.8703 - val_mse: 0.0980\n",
      "Epoch 18/100\n",
      "116/116 [==============================] - 1s 11ms/step - loss: 0.4355 - accuracy: 0.8003 - mse: 0.1491 - val_loss: 0.3794 - val_accuracy: 0.8670 - val_mse: 0.1038\n",
      "Epoch 19/100\n",
      "116/116 [==============================] - 1s 11ms/step - loss: 0.4343 - accuracy: 0.8061 - mse: 0.1465 - val_loss: 0.4550 - val_accuracy: 0.8108 - val_mse: 0.1412\n",
      "Epoch 20/100\n",
      "116/116 [==============================] - 1s 11ms/step - loss: 0.4024 - accuracy: 0.8280 - mse: 0.1324 - val_loss: 0.1810 - val_accuracy: 0.9654 - val_mse: 0.0270\n",
      "Epoch 21/100\n",
      "116/116 [==============================] - 1s 11ms/step - loss: 0.4190 - accuracy: 0.8053 - mse: 0.1412 - val_loss: 0.2135 - val_accuracy: 0.9546 - val_mse: 0.0371\n",
      "Epoch 22/100\n",
      "116/116 [==============================] - 1s 11ms/step - loss: 0.3801 - accuracy: 0.8276 - mse: 0.1268 - val_loss: 0.3506 - val_accuracy: 0.8724 - val_mse: 0.0993\n",
      "Epoch 23/100\n",
      "116/116 [==============================] - 1s 11ms/step - loss: 0.4073 - accuracy: 0.8130 - mse: 0.1386 - val_loss: 0.5376 - val_accuracy: 0.7449 - val_mse: 0.1866\n",
      "Epoch 24/100\n",
      "116/116 [==============================] - 1s 11ms/step - loss: 0.3773 - accuracy: 0.8396 - mse: 0.1238 - val_loss: 0.3177 - val_accuracy: 0.8908 - val_mse: 0.0832\n",
      "Epoch 25/100\n",
      "116/116 [==============================] - 1s 11ms/step - loss: 0.3860 - accuracy: 0.8212 - mse: 0.1314 - val_loss: 0.2904 - val_accuracy: 0.8962 - val_mse: 0.0786\n",
      "Epoch 26/100\n",
      "116/116 [==============================] - 1s 11ms/step - loss: 0.3646 - accuracy: 0.8349 - mse: 0.1194 - val_loss: 0.2602 - val_accuracy: 0.9178 - val_mse: 0.0637\n",
      "Epoch 27/100\n",
      "116/116 [==============================] - 1s 11ms/step - loss: 0.3499 - accuracy: 0.8493 - mse: 0.1154 - val_loss: 0.2754 - val_accuracy: 0.9070 - val_mse: 0.0726\n",
      "Epoch 28/100\n",
      "116/116 [==============================] - 1s 11ms/step - loss: 0.3481 - accuracy: 0.8449 - mse: 0.1140 - val_loss: 0.2141 - val_accuracy: 0.9341 - val_mse: 0.0497\n",
      "Epoch 29/100\n",
      "116/116 [==============================] - 1s 11ms/step - loss: 0.3307 - accuracy: 0.8565 - mse: 0.1071 - val_loss: 0.2955 - val_accuracy: 0.8865 - val_mse: 0.0848\n",
      "Epoch 30/100\n",
      "116/116 [==============================] - 1s 11ms/step - loss: 0.3309 - accuracy: 0.8612 - mse: 0.1060 - val_loss: 0.2004 - val_accuracy: 0.9351 - val_mse: 0.0479\n",
      "Epoch 31/100\n",
      "116/116 [==============================] - 1s 11ms/step - loss: 0.3166 - accuracy: 0.8635 - mse: 0.1032 - val_loss: 0.3719 - val_accuracy: 0.8400 - val_mse: 0.1182\n",
      "Epoch 32/100\n",
      "116/116 [==============================] - 1s 11ms/step - loss: 0.3112 - accuracy: 0.8752 - mse: 0.0968 - val_loss: 0.3377 - val_accuracy: 0.8714 - val_mse: 0.1008\n",
      "Epoch 33/100\n",
      "116/116 [==============================] - 1s 11ms/step - loss: 0.2909 - accuracy: 0.8828 - mse: 0.0879 - val_loss: 0.3412 - val_accuracy: 0.8595 - val_mse: 0.1017\n",
      "Epoch 34/100\n",
      "116/116 [==============================] - 1s 11ms/step - loss: 0.2906 - accuracy: 0.8753 - mse: 0.0907 - val_loss: 0.2846 - val_accuracy: 0.8886 - val_mse: 0.0830\n",
      "Epoch 35/100\n",
      "116/116 [==============================] - 1s 11ms/step - loss: 0.2796 - accuracy: 0.8877 - mse: 0.0849 - val_loss: 0.1970 - val_accuracy: 0.9351 - val_mse: 0.0510\n",
      "Epoch 36/100\n",
      "116/116 [==============================] - 1s 11ms/step - loss: 0.2737 - accuracy: 0.8842 - mse: 0.0852 - val_loss: 0.3716 - val_accuracy: 0.8486 - val_mse: 0.1214\n",
      "Epoch 37/100\n",
      "116/116 [==============================] - 1s 11ms/step - loss: 0.2597 - accuracy: 0.8974 - mse: 0.0768 - val_loss: 0.3507 - val_accuracy: 0.8573 - val_mse: 0.1078\n",
      "Epoch 38/100\n",
      "116/116 [==============================] - 1s 11ms/step - loss: 0.2536 - accuracy: 0.8932 - mse: 0.0753 - val_loss: 0.5094 - val_accuracy: 0.7968 - val_mse: 0.1641\n",
      "Epoch 39/100\n",
      "116/116 [==============================] - 1s 11ms/step - loss: 0.2538 - accuracy: 0.8955 - mse: 0.0771 - val_loss: 0.1666 - val_accuracy: 0.9449 - val_mse: 0.0425\n",
      "Epoch 40/100\n",
      "116/116 [==============================] - 1s 11ms/step - loss: 0.2479 - accuracy: 0.9050 - mse: 0.0727 - val_loss: 0.4007 - val_accuracy: 0.8465 - val_mse: 0.1274\n",
      "Epoch 41/100\n",
      "116/116 [==============================] - 1s 11ms/step - loss: 0.2270 - accuracy: 0.9102 - mse: 0.0652 - val_loss: 0.4698 - val_accuracy: 0.8108 - val_mse: 0.1505\n",
      "Epoch 42/100\n",
      "116/116 [==============================] - 1s 11ms/step - loss: 0.2195 - accuracy: 0.9154 - mse: 0.0627 - val_loss: 0.3568 - val_accuracy: 0.8476 - val_mse: 0.1145\n",
      "Epoch 43/100\n",
      "116/116 [==============================] - 1s 11ms/step - loss: 0.2017 - accuracy: 0.9213 - mse: 0.0562 - val_loss: 0.2914 - val_accuracy: 0.8886 - val_mse: 0.0883\n",
      "Epoch 44/100\n",
      "116/116 [==============================] - 1s 11ms/step - loss: 0.2048 - accuracy: 0.9180 - mse: 0.0588 - val_loss: 0.4615 - val_accuracy: 0.8054 - val_mse: 0.1537\n",
      "Epoch 45/100\n",
      "116/116 [==============================] - 1s 11ms/step - loss: 0.2018 - accuracy: 0.9237 - mse: 0.0574 - val_loss: 0.4011 - val_accuracy: 0.8281 - val_mse: 0.1303\n",
      "Epoch 46/100\n",
      "116/116 [==============================] - 1s 11ms/step - loss: 0.1872 - accuracy: 0.9330 - mse: 0.0495 - val_loss: 0.3266 - val_accuracy: 0.8649 - val_mse: 0.1044\n",
      "Epoch 47/100\n",
      "116/116 [==============================] - 1s 11ms/step - loss: 0.1806 - accuracy: 0.9335 - mse: 0.0488 - val_loss: 0.4744 - val_accuracy: 0.8097 - val_mse: 0.1552\n",
      "Epoch 48/100\n",
      "116/116 [==============================] - 1s 11ms/step - loss: 0.1712 - accuracy: 0.9328 - mse: 0.0472 - val_loss: 0.3823 - val_accuracy: 0.8443 - val_mse: 0.1228\n",
      "Epoch 49/100\n",
      "116/116 [==============================] - 1s 11ms/step - loss: 0.1653 - accuracy: 0.9456 - mse: 0.0440 - val_loss: 0.2450 - val_accuracy: 0.9146 - val_mse: 0.0672\n",
      "Epoch 50/100\n",
      "116/116 [==============================] - 1s 11ms/step - loss: 0.1588 - accuracy: 0.9458 - mse: 0.0396 - val_loss: 0.3282 - val_accuracy: 0.8703 - val_mse: 0.1025\n",
      "Epoch 51/100\n",
      "116/116 [==============================] - 1s 11ms/step - loss: 0.1549 - accuracy: 0.9485 - mse: 0.0395 - val_loss: 0.3721 - val_accuracy: 0.8486 - val_mse: 0.1208\n",
      "Epoch 52/100\n",
      "116/116 [==============================] - 1s 11ms/step - loss: 0.1530 - accuracy: 0.9448 - mse: 0.0391 - val_loss: 0.5397 - val_accuracy: 0.7795 - val_mse: 0.1783\n",
      "Epoch 53/100\n",
      "116/116 [==============================] - 1s 11ms/step - loss: 0.1431 - accuracy: 0.9563 - mse: 0.0340 - val_loss: 0.4180 - val_accuracy: 0.8465 - val_mse: 0.1269\n",
      "Epoch 54/100\n",
      "116/116 [==============================] - 1s 11ms/step - loss: 0.1269 - accuracy: 0.9643 - mse: 0.0289 - val_loss: 0.2767 - val_accuracy: 0.8941 - val_mse: 0.0866\n",
      "Epoch 55/100\n",
      "116/116 [==============================] - 1s 11ms/step - loss: 0.1381 - accuracy: 0.9564 - mse: 0.0333 - val_loss: 0.5262 - val_accuracy: 0.8043 - val_mse: 0.1637\n",
      "Epoch 56/100\n",
      "116/116 [==============================] - 1s 11ms/step - loss: 0.1224 - accuracy: 0.9648 - mse: 0.0283 - val_loss: 0.4359 - val_accuracy: 0.8465 - val_mse: 0.1264\n",
      "Epoch 57/100\n",
      "116/116 [==============================] - 1s 11ms/step - loss: 0.1139 - accuracy: 0.9627 - mse: 0.0261 - val_loss: 0.3094 - val_accuracy: 0.8800 - val_mse: 0.0937\n",
      "Epoch 58/100\n",
      "116/116 [==============================] - 1s 11ms/step - loss: 0.1050 - accuracy: 0.9663 - mse: 0.0243 - val_loss: 0.3555 - val_accuracy: 0.8649 - val_mse: 0.1065\n",
      "Epoch 59/100\n",
      "116/116 [==============================] - 1s 11ms/step - loss: 0.1062 - accuracy: 0.9720 - mse: 0.0234 - val_loss: 0.2385 - val_accuracy: 0.9189 - val_mse: 0.0659\n",
      "Epoch 60/100\n",
      "116/116 [==============================] - 1s 11ms/step - loss: 0.0994 - accuracy: 0.9730 - mse: 0.0215 - val_loss: 0.3122 - val_accuracy: 0.8897 - val_mse: 0.0911\n",
      "Epoch 61/100\n",
      "116/116 [==============================] - 1s 11ms/step - loss: 0.0886 - accuracy: 0.9755 - mse: 0.0174 - val_loss: 0.3557 - val_accuracy: 0.8822 - val_mse: 0.0995\n",
      "Epoch 62/100\n",
      "116/116 [==============================] - 1s 11ms/step - loss: 0.0849 - accuracy: 0.9814 - mse: 0.0151 - val_loss: 0.4371 - val_accuracy: 0.8346 - val_mse: 0.1348\n",
      "Epoch 63/100\n",
      "116/116 [==============================] - 1s 11ms/step - loss: 0.0863 - accuracy: 0.9750 - mse: 0.0178 - val_loss: 0.6944 - val_accuracy: 0.7470 - val_mse: 0.2114\n",
      "Epoch 64/100\n",
      "116/116 [==============================] - 1s 11ms/step - loss: 0.0841 - accuracy: 0.9793 - mse: 0.0143 - val_loss: 0.3521 - val_accuracy: 0.8865 - val_mse: 0.0956\n",
      "Epoch 65/100\n",
      "116/116 [==============================] - 1s 11ms/step - loss: 0.0795 - accuracy: 0.9776 - mse: 0.0169 - val_loss: 0.4182 - val_accuracy: 0.8530 - val_mse: 0.1218\n",
      "Epoch 66/100\n",
      "116/116 [==============================] - 1s 11ms/step - loss: 0.0749 - accuracy: 0.9807 - mse: 0.0149 - val_loss: 0.3171 - val_accuracy: 0.8930 - val_mse: 0.0891\n",
      "Epoch 67/100\n",
      "116/116 [==============================] - 1s 11ms/step - loss: 0.0777 - accuracy: 0.9814 - mse: 0.0152 - val_loss: 0.3438 - val_accuracy: 0.8800 - val_mse: 0.0975\n",
      "Epoch 68/100\n",
      "116/116 [==============================] - 1s 11ms/step - loss: 0.0653 - accuracy: 0.9864 - mse: 0.0114 - val_loss: 0.4316 - val_accuracy: 0.8584 - val_mse: 0.1178\n",
      "Epoch 69/100\n",
      "116/116 [==============================] - 1s 11ms/step - loss: 0.0718 - accuracy: 0.9819 - mse: 0.0142 - val_loss: 0.3897 - val_accuracy: 0.8703 - val_mse: 0.1063\n",
      "Epoch 70/100\n",
      "116/116 [==============================] - 1s 11ms/step - loss: 0.0652 - accuracy: 0.9833 - mse: 0.0121 - val_loss: 0.4039 - val_accuracy: 0.8659 - val_mse: 0.1148\n",
      "Epoch 71/100\n",
      "116/116 [==============================] - 1s 11ms/step - loss: 0.0605 - accuracy: 0.9877 - mse: 0.0114 - val_loss: 0.4434 - val_accuracy: 0.8551 - val_mse: 0.1192\n",
      "Epoch 72/100\n",
      "116/116 [==============================] - 1s 11ms/step - loss: 0.0545 - accuracy: 0.9897 - mse: 0.0083 - val_loss: 0.4653 - val_accuracy: 0.8595 - val_mse: 0.1199\n",
      "Epoch 73/100\n",
      "116/116 [==============================] - 1s 11ms/step - loss: 0.0485 - accuracy: 0.9903 - mse: 0.0063 - val_loss: 0.4984 - val_accuracy: 0.8324 - val_mse: 0.1418\n",
      "Epoch 74/100\n",
      "116/116 [==============================] - 1s 11ms/step - loss: 0.0498 - accuracy: 0.9903 - mse: 0.0073 - val_loss: 0.3868 - val_accuracy: 0.8800 - val_mse: 0.1013\n",
      "Epoch 75/100\n",
      "116/116 [==============================] - 1s 11ms/step - loss: 0.0592 - accuracy: 0.9860 - mse: 0.0111 - val_loss: 0.3254 - val_accuracy: 0.8973 - val_mse: 0.0837\n",
      "Epoch 76/100\n",
      "116/116 [==============================] - 1s 11ms/step - loss: 0.0543 - accuracy: 0.9913 - mse: 0.0082 - val_loss: 0.4867 - val_accuracy: 0.8497 - val_mse: 0.1271\n",
      "Epoch 77/100\n",
      "116/116 [==============================] - 1s 11ms/step - loss: 0.0473 - accuracy: 0.9897 - mse: 0.0081 - val_loss: 0.4725 - val_accuracy: 0.8541 - val_mse: 0.1241\n",
      "Epoch 78/100\n",
      "116/116 [==============================] - 1s 11ms/step - loss: 0.0460 - accuracy: 0.9899 - mse: 0.0079 - val_loss: 0.7202 - val_accuracy: 0.8011 - val_mse: 0.1772\n",
      "Epoch 79/100\n",
      "116/116 [==============================] - 1s 11ms/step - loss: 0.0427 - accuracy: 0.9935 - mse: 0.0054 - val_loss: 0.2399 - val_accuracy: 0.9341 - val_mse: 0.0565\n",
      "Epoch 80/100\n",
      "116/116 [==============================] - 1s 11ms/step - loss: 0.0387 - accuracy: 0.9926 - mse: 0.0057 - val_loss: 0.6659 - val_accuracy: 0.7838 - val_mse: 0.1774\n",
      "Epoch 81/100\n",
      "116/116 [==============================] - 1s 11ms/step - loss: 0.0376 - accuracy: 0.9936 - mse: 0.0052 - val_loss: 0.5749 - val_accuracy: 0.8411 - val_mse: 0.1420\n",
      "Epoch 82/100\n",
      "116/116 [==============================] - 1s 11ms/step - loss: 0.0523 - accuracy: 0.9860 - mse: 0.0104 - val_loss: 0.6071 - val_accuracy: 0.8173 - val_mse: 0.1562\n",
      "Epoch 83/100\n",
      "116/116 [==============================] - 1s 11ms/step - loss: 0.0363 - accuracy: 0.9958 - mse: 0.0043 - val_loss: 0.4319 - val_accuracy: 0.8822 - val_mse: 0.1044\n",
      "Epoch 84/100\n",
      "116/116 [==============================] - 1s 11ms/step - loss: 0.0292 - accuracy: 0.9933 - mse: 0.0036 - val_loss: 0.4802 - val_accuracy: 0.8562 - val_mse: 0.1226\n",
      "Epoch 85/100\n",
      "116/116 [==============================] - 1s 11ms/step - loss: 0.0344 - accuracy: 0.9932 - mse: 0.0052 - val_loss: 0.3872 - val_accuracy: 0.8919 - val_mse: 0.0907\n",
      "Epoch 86/100\n",
      "116/116 [==============================] - 1s 11ms/step - loss: 0.0397 - accuracy: 0.9910 - mse: 0.0063 - val_loss: 0.6580 - val_accuracy: 0.8130 - val_mse: 0.1626\n",
      "Epoch 87/100\n",
      "116/116 [==============================] - 1s 11ms/step - loss: 0.0304 - accuracy: 0.9963 - mse: 0.0036 - val_loss: 0.4174 - val_accuracy: 0.8897 - val_mse: 0.0962\n",
      "Epoch 88/100\n",
      "116/116 [==============================] - 1s 11ms/step - loss: 0.0385 - accuracy: 0.9902 - mse: 0.0073 - val_loss: 0.4904 - val_accuracy: 0.8649 - val_mse: 0.1176\n",
      "Epoch 89/100\n",
      "116/116 [==============================] - 1s 11ms/step - loss: 0.0272 - accuracy: 0.9953 - mse: 0.0032 - val_loss: 0.1514 - val_accuracy: 0.9557 - val_mse: 0.0390\n",
      "Epoch 90/100\n",
      "116/116 [==============================] - 1s 11ms/step - loss: 0.1086 - accuracy: 0.9679 - mse: 0.0261 - val_loss: 0.7220 - val_accuracy: 0.7870 - val_mse: 0.1850\n",
      "Epoch 91/100\n",
      "116/116 [==============================] - 1s 11ms/step - loss: 0.0265 - accuracy: 0.9958 - mse: 0.0034 - val_loss: 0.5642 - val_accuracy: 0.8584 - val_mse: 0.1281\n",
      "Epoch 92/100\n",
      "116/116 [==============================] - 1s 11ms/step - loss: 0.0316 - accuracy: 0.9945 - mse: 0.0046 - val_loss: 0.4563 - val_accuracy: 0.8735 - val_mse: 0.1098\n",
      "Epoch 93/100\n",
      "116/116 [==============================] - 1s 11ms/step - loss: 0.0232 - accuracy: 0.9955 - mse: 0.0031 - val_loss: 0.4409 - val_accuracy: 0.8886 - val_mse: 0.1005\n",
      "Epoch 94/100\n",
      "116/116 [==============================] - 1s 11ms/step - loss: 0.0185 - accuracy: 0.9974 - mse: 0.0018 - val_loss: 0.6012 - val_accuracy: 0.8432 - val_mse: 0.1418\n",
      "Epoch 95/100\n",
      "116/116 [==============================] - 1s 11ms/step - loss: 0.0187 - accuracy: 0.9975 - mse: 0.0023 - val_loss: 0.6619 - val_accuracy: 0.8238 - val_mse: 0.1532\n",
      "Epoch 96/100\n",
      "116/116 [==============================] - 1s 11ms/step - loss: 0.0171 - accuracy: 0.9976 - mse: 0.0020 - val_loss: 0.6599 - val_accuracy: 0.8335 - val_mse: 0.1481\n",
      "Epoch 97/100\n",
      "116/116 [==============================] - 1s 11ms/step - loss: 0.0217 - accuracy: 0.9957 - mse: 0.0033 - val_loss: 0.4251 - val_accuracy: 0.8897 - val_mse: 0.0965\n",
      "Epoch 98/100\n",
      "116/116 [==============================] - 1s 11ms/step - loss: 0.0174 - accuracy: 0.9975 - mse: 0.0019 - val_loss: 0.5196 - val_accuracy: 0.8616 - val_mse: 0.1162\n",
      "Epoch 99/100\n",
      "116/116 [==============================] - 1s 11ms/step - loss: 0.0308 - accuracy: 0.9932 - mse: 0.0055 - val_loss: 0.4927 - val_accuracy: 0.8724 - val_mse: 0.1116\n",
      "Epoch 100/100\n",
      "116/116 [==============================] - 1s 11ms/step - loss: 0.0216 - accuracy: 0.9950 - mse: 0.0037 - val_loss: 0.4329 - val_accuracy: 0.8865 - val_mse: 0.0982\n"
     ]
    },
    {
     "data": {
      "text/plain": [
       "<tensorflow.python.keras.callbacks.History at 0x7f71881406d0>"
      ]
     },
     "execution_count": 11,
     "metadata": {},
     "output_type": "execute_result"
    }
   ],
   "source": [
    "epochs = 100\n",
    "model.fit(images_train, image_labels, epochs=epochs, validation_split=0.2)"
   ]
  },
  {
   "cell_type": "code",
   "execution_count": null,
   "metadata": {},
   "outputs": [],
   "source": []
  }
 ],
 "metadata": {
  "kernelspec": {
   "display_name": "mastersthesis",
   "language": "python",
   "name": "python3"
  },
  "language_info": {
   "codemirror_mode": {
    "name": "ipython",
    "version": 3
   },
   "file_extension": ".py",
   "mimetype": "text/x-python",
   "name": "python",
   "nbconvert_exporter": "python",
   "pygments_lexer": "ipython3",
   "version": "3.10.13"
  },
  "orig_nbformat": 4
 },
 "nbformat": 4,
 "nbformat_minor": 2
}
