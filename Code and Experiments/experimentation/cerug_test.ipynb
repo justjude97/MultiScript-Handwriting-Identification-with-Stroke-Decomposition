{
 "cells": [
  {
   "cell_type": "code",
   "execution_count": 16,
   "metadata": {},
   "outputs": [],
   "source": [
    "import cv2 as cv\n",
    "import re\n",
    "\n",
    "import pathlib"
   ]
  },
  {
   "cell_type": "code",
   "execution_count": 24,
   "metadata": {},
   "outputs": [],
   "source": [
    "path = pathlib.Path('./CERUG')\n",
    "files = [fp for fp in path.iterdir()]"
   ]
  },
  {
   "cell_type": "code",
   "execution_count": 32,
   "metadata": {},
   "outputs": [
    {
     "name": "stdout",
     "output_type": "stream",
     "text": [
      "parts of filepath:  ['CERUG', 'Writer0202_03-02.ppm']\n",
      "filename:  Writer0202_03-02.ppm\n"
     ]
    },
    {
     "data": {
      "text/plain": [
       "'0202_03-02'"
      ]
     },
     "execution_count": 32,
     "metadata": {},
     "output_type": "execute_result"
    }
   ],
   "source": [
    "pathname = str(files[1])\n",
    "parts = pathname.split('\\\\')\n",
    "print(\"parts of filepath: \", parts)\n",
    "filename = parts[-1]\n",
    "print(\"filename: \", filename)\n",
    "\n",
    "re.search(r'(\\d*)_(\\d*)(-\\d*)?', filename)[0]"
   ]
  },
  {
   "cell_type": "code",
   "execution_count": 35,
   "metadata": {},
   "outputs": [
    {
     "data": {
      "text/plain": [
       "['0202', '0202', '0909']"
      ]
     },
     "execution_count": 35,
     "metadata": {},
     "output_type": "execute_result"
    }
   ],
   "source": [
    "list(map(lambda x: re.search(r'(\\d*)_(\\d*)(-\\d*)?', str(x))[1], files))"
   ]
  },
  {
   "cell_type": "code",
   "execution_count": 10,
   "metadata": {},
   "outputs": [],
   "source": [
    "im = cv.imread(str(path.iterdir().__next__()))"
   ]
  },
  {
   "cell_type": "code",
   "execution_count": null,
   "metadata": {},
   "outputs": [],
   "source": [
    "for fp in path.iterdir():\n",
    "    fp."
   ]
  }
 ],
 "metadata": {
  "kernelspec": {
   "display_name": "mastersthesis",
   "language": "python",
   "name": "python3"
  },
  "language_info": {
   "codemirror_mode": {
    "name": "ipython",
    "version": 3
   },
   "file_extension": ".py",
   "mimetype": "text/x-python",
   "name": "python",
   "nbconvert_exporter": "python",
   "pygments_lexer": "ipython3",
   "version": "3.10.13"
  },
  "orig_nbformat": 4
 },
 "nbformat": 4,
 "nbformat_minor": 2
}
