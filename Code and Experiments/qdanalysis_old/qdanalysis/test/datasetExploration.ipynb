{
 "cells": [
  {
   "cell_type": "code",
   "execution_count": 2,
   "metadata": {},
   "outputs": [],
   "source": [
    "import pandas as pd\n",
    "import numpy as np\n",
    "import sys\n",
    "sys.path.insert(1, \"/home/digitalstorm/CVRL Projects/Handwriting Analysis/code\")\n",
    "\n",
    "from siameseLoader import getSiameseAnnotations, getFileNo"
   ]
  },
  {
   "cell_type": "code",
   "execution_count": 4,
   "metadata": {},
   "outputs": [],
   "source": [
    "annotations = pd.read_csv(\"siameseAnnotations.csv\")"
   ]
  },
  {
   "cell_type": "code",
   "execution_count": 5,
   "metadata": {},
   "outputs": [
    {
     "data": {
      "text/html": [
       "<div>\n",
       "<style scoped>\n",
       "    .dataframe tbody tr th:only-of-type {\n",
       "        vertical-align: middle;\n",
       "    }\n",
       "\n",
       "    .dataframe tbody tr th {\n",
       "        vertical-align: top;\n",
       "    }\n",
       "\n",
       "    .dataframe thead th {\n",
       "        text-align: right;\n",
       "    }\n",
       "</style>\n",
       "<table border=\"1\" class=\"dataframe\">\n",
       "  <thead>\n",
       "    <tr style=\"text-align: right;\">\n",
       "      <th></th>\n",
       "      <th>leftIm</th>\n",
       "      <th>rightIm</th>\n",
       "      <th>label</th>\n",
       "    </tr>\n",
       "  </thead>\n",
       "  <tbody>\n",
       "    <tr>\n",
       "      <th>0</th>\n",
       "      <td>code/datasets/siameseRoot/মাঝে/10_4.PNG</td>\n",
       "      <td>code/datasets/siameseRoot/মাঝে/13_4.PNG</td>\n",
       "      <td>0</td>\n",
       "    </tr>\n",
       "    <tr>\n",
       "      <th>1</th>\n",
       "      <td>code/datasets/siameseRoot/সেই/13_5.PNG</td>\n",
       "      <td>code/datasets/siameseRoot/সেই/14_5.PNG</td>\n",
       "      <td>0</td>\n",
       "    </tr>\n",
       "    <tr>\n",
       "      <th>2</th>\n",
       "      <td>code/datasets/siameseRoot/সেই/13_5.PNG</td>\n",
       "      <td>code/datasets/siameseRoot/সেই/18_5.PNG</td>\n",
       "      <td>0</td>\n",
       "    </tr>\n",
       "    <tr>\n",
       "      <th>3</th>\n",
       "      <td>code/datasets/siameseRoot/সেই/13_5.PNG</td>\n",
       "      <td>code/datasets/siameseRoot/সেই/2_7.PNG</td>\n",
       "      <td>0</td>\n",
       "    </tr>\n",
       "    <tr>\n",
       "      <th>4</th>\n",
       "      <td>code/datasets/siameseRoot/সেই/13_5.PNG</td>\n",
       "      <td>code/datasets/siameseRoot/সেই/3_10_3.PNG</td>\n",
       "      <td>0</td>\n",
       "    </tr>\n",
       "    <tr>\n",
       "      <th>...</th>\n",
       "      <td>...</td>\n",
       "      <td>...</td>\n",
       "      <td>...</td>\n",
       "    </tr>\n",
       "    <tr>\n",
       "      <th>271590</th>\n",
       "      <td>code/datasets/siameseRoot/দিনের/3_80_1.PNG</td>\n",
       "      <td>code/datasets/siameseRoot/দিনের/3_83_5.PNG</td>\n",
       "      <td>1</td>\n",
       "    </tr>\n",
       "    <tr>\n",
       "      <th>271591</th>\n",
       "      <td>code/datasets/siameseRoot/দিনের/3_80_1.PNG</td>\n",
       "      <td>code/datasets/siameseRoot/দিনের/3_53_7.PNG</td>\n",
       "      <td>1</td>\n",
       "    </tr>\n",
       "    <tr>\n",
       "      <th>271592</th>\n",
       "      <td>code/datasets/siameseRoot/আমি/21_3.PNG</td>\n",
       "      <td>code/datasets/siameseRoot/আমি/21_2.PNG</td>\n",
       "      <td>1</td>\n",
       "    </tr>\n",
       "    <tr>\n",
       "      <th>271593</th>\n",
       "      <td>code/datasets/siameseRoot/এর/9_2.PNG</td>\n",
       "      <td>code/datasets/siameseRoot/এর/9_5.PNG</td>\n",
       "      <td>1</td>\n",
       "    </tr>\n",
       "    <tr>\n",
       "      <th>271594</th>\n",
       "      <td>code/datasets/siameseRoot/করে/12_2.PNG</td>\n",
       "      <td>code/datasets/siameseRoot/করে/12_7.PNG</td>\n",
       "      <td>1</td>\n",
       "    </tr>\n",
       "  </tbody>\n",
       "</table>\n",
       "<p>271595 rows × 3 columns</p>\n",
       "</div>"
      ],
      "text/plain": [
       "                                            leftIm  \\\n",
       "0          code/datasets/siameseRoot/মাঝে/10_4.PNG   \n",
       "1           code/datasets/siameseRoot/সেই/13_5.PNG   \n",
       "2           code/datasets/siameseRoot/সেই/13_5.PNG   \n",
       "3           code/datasets/siameseRoot/সেই/13_5.PNG   \n",
       "4           code/datasets/siameseRoot/সেই/13_5.PNG   \n",
       "...                                            ...   \n",
       "271590  code/datasets/siameseRoot/দিনের/3_80_1.PNG   \n",
       "271591  code/datasets/siameseRoot/দিনের/3_80_1.PNG   \n",
       "271592      code/datasets/siameseRoot/আমি/21_3.PNG   \n",
       "271593        code/datasets/siameseRoot/এর/9_2.PNG   \n",
       "271594      code/datasets/siameseRoot/করে/12_2.PNG   \n",
       "\n",
       "                                           rightIm  label  \n",
       "0          code/datasets/siameseRoot/মাঝে/13_4.PNG      0  \n",
       "1           code/datasets/siameseRoot/সেই/14_5.PNG      0  \n",
       "2           code/datasets/siameseRoot/সেই/18_5.PNG      0  \n",
       "3            code/datasets/siameseRoot/সেই/2_7.PNG      0  \n",
       "4         code/datasets/siameseRoot/সেই/3_10_3.PNG      0  \n",
       "...                                            ...    ...  \n",
       "271590  code/datasets/siameseRoot/দিনের/3_83_5.PNG      1  \n",
       "271591  code/datasets/siameseRoot/দিনের/3_53_7.PNG      1  \n",
       "271592      code/datasets/siameseRoot/আমি/21_2.PNG      1  \n",
       "271593        code/datasets/siameseRoot/এর/9_5.PNG      1  \n",
       "271594      code/datasets/siameseRoot/করে/12_7.PNG      1  \n",
       "\n",
       "[271595 rows x 3 columns]"
      ]
     },
     "execution_count": 5,
     "metadata": {},
     "output_type": "execute_result"
    }
   ],
   "source": [
    "annotations"
   ]
  },
  {
   "cell_type": "code",
   "execution_count": 8,
   "metadata": {},
   "outputs": [
    {
     "data": {
      "text/plain": [
       "0    254938\n",
       "1     16657\n",
       "Name: label, dtype: int64"
      ]
     },
     "execution_count": 8,
     "metadata": {},
     "output_type": "execute_result"
    }
   ],
   "source": [
    "annotations[\"label\"].value_counts()"
   ]
  },
  {
   "cell_type": "code",
   "execution_count": 12,
   "metadata": {},
   "outputs": [
    {
     "data": {
      "text/plain": [
       "0    0.93867\n",
       "1    0.06133\n",
       "Name: label, dtype: float64"
      ]
     },
     "execution_count": 12,
     "metadata": {},
     "output_type": "execute_result"
    }
   ],
   "source": [
    "annotations['label'].value_counts(normalize=True)"
   ]
  },
  {
   "cell_type": "code",
   "execution_count": 21,
   "metadata": {},
   "outputs": [
    {
     "data": {
      "text/plain": [
       "<AxesSubplot:>"
      ]
     },
     "execution_count": 21,
     "metadata": {},
     "output_type": "execute_result"
    }
   ],
   "source": [
    "annotations['label'].plot.bar()"
   ]
  },
  {
   "cell_type": "markdown",
   "metadata": {},
   "source": [
    "testing SKLearn random sampling split"
   ]
  },
  {
   "cell_type": "code",
   "execution_count": 15,
   "metadata": {},
   "outputs": [],
   "source": [
    "trainPercentage = 0.8"
   ]
  },
  {
   "cell_type": "code",
   "execution_count": 16,
   "metadata": {},
   "outputs": [],
   "source": [
    "from sklearn.model_selection import train_test_split\n",
    "\n",
    "train, test = train_test_split(annotations, train_size=trainPercentage, shuffle=True)"
   ]
  },
  {
   "cell_type": "code",
   "execution_count": 18,
   "metadata": {},
   "outputs": [
    {
     "data": {
      "text/plain": [
       "0    0.938636\n",
       "1    0.061364\n",
       "Name: label, dtype: float64"
      ]
     },
     "execution_count": 18,
     "metadata": {},
     "output_type": "execute_result"
    }
   ],
   "source": [
    "train['label'].value_counts(normalize=True)"
   ]
  },
  {
   "cell_type": "code",
   "execution_count": 19,
   "metadata": {},
   "outputs": [
    {
     "data": {
      "text/plain": [
       "0    0.938806\n",
       "1    0.061194\n",
       "Name: label, dtype: float64"
      ]
     },
     "execution_count": 19,
     "metadata": {},
     "output_type": "execute_result"
    }
   ],
   "source": [
    "test['label'].value_counts(normalize=True)"
   ]
  },
  {
   "cell_type": "code",
   "execution_count": null,
   "metadata": {},
   "outputs": [],
   "source": []
  }
 ],
 "metadata": {
  "interpreter": {
   "hash": "21f89a4e123f58e143ef0110d9885566bb09658b5de6d7de73421c90c01be464"
  },
  "kernelspec": {
   "display_name": "Python 3.8.11 64-bit ('tf-gpu': conda)",
   "name": "python3"
  },
  "language_info": {
   "codemirror_mode": {
    "name": "ipython",
    "version": 3
   },
   "file_extension": ".py",
   "mimetype": "text/x-python",
   "name": "python",
   "nbconvert_exporter": "python",
   "pygments_lexer": "ipython3",
   "version": "3.8.11"
  },
  "orig_nbformat": 4
 },
 "nbformat": 4,
 "nbformat_minor": 2
}
