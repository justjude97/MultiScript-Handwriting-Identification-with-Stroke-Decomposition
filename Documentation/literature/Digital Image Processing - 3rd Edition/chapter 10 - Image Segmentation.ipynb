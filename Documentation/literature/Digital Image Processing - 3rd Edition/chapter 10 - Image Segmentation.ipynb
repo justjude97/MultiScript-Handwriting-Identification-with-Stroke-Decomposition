{
 "cells": [
  {
   "cell_type": "markdown",
   "metadata": {},
   "source": [
    "# Chapter 10 - Image Segmentation\n",
    "* **segmentation** divides an image into its constituent regions or objects. The LOD to which the sudivision is carried out depends on the goal\n",
    "* segmentation of nontrivial images is difficult"
   ]
  },
  {
   "cell_type": "markdown",
   "metadata": {},
   "source": [
    "## 10.1 Fundamentals\n",
    "* Let\n",
    "    * $R$ be the entire spatial region occupied by an image\n",
    "    * $Q(R_i)$ be a predicate defined over the points in set $R_k$\n",
    "* **Segmentation** is a proces that partitions $R$ into $n$ subregions $R_1, R_2, \\ldots, R_n$ such that:\n",
    "    1. $\\cup_{i=1}^nR_i=R$\n",
    "    2. $R_i$ is a connected set, $i=1, 2, ..., n$\n",
    "        * cannot be divided into two nonempty sets and open in the relative topology represented on the set\n",
    "    3. $R_i\\cap R_j = \\varnothing \\text{ for all } i, j | i\\neq j$\n",
    "    4. $Q(R_i) = \\text{ TRUE for } i=1, 2, \\ldots, n$\n",
    "    5. $Q(R_i\\cup R_j) = \\text{ FALSE for any adjacent region } R_i, R_j$\n",
    "* segmentation algorithms for monochrome images allow boundary detection based ondiscontinuities in intensity\n",
    "    * **edge-based**\n",
    "* **Region-Based** segmentation approaches are based on partitioning an image into regions taht are similar according to a set of predefined criteria"
   ]
  },
  {
   "cell_type": "markdown",
   "metadata": {},
   "source": [
    "## 10.2 - Point, Line, and Edge Detection"
   ]
  },
  {
   "cell_type": "markdown",
   "metadata": {},
   "source": [
    "## 10.3 - Thresholding"
   ]
  },
  {
   "cell_type": "markdown",
   "metadata": {},
   "source": [
    "## 10.4 - Region Based Segmentation"
   ]
  },
  {
   "cell_type": "markdown",
   "metadata": {},
   "source": [
    "## 10.5 - Segmentation using Morphological Water Shed"
   ]
  },
  {
   "cell_type": "markdown",
   "metadata": {},
   "source": [
    "## 10.6 - The Use of Motion in Segmentation"
   ]
  },
  {
   "cell_type": "markdown",
   "metadata": {},
   "source": []
  }
 ],
 "metadata": {
  "language_info": {
   "name": "python"
  },
  "orig_nbformat": 4
 },
 "nbformat": 4,
 "nbformat_minor": 2
}
