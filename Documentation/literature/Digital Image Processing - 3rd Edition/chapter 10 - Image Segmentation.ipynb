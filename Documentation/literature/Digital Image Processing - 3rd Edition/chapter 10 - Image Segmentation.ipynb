{
 "cells": [
  {
   "cell_type": "markdown",
   "metadata": {},
   "source": [
    "# Chapter 10 - Image Segmentation\n",
    "* **segmentation** divides an image into its constituent regions or objects. The LOD to which the sudivision is carried out depends on the goal\n",
    "* segmentation of nontrivial images is difficult"
   ]
  },
  {
   "cell_type": "markdown",
   "metadata": {},
   "source": [
    "## 10.1 Fundamentals\n",
    "* Let\n",
    "    * $R$ be the entire spatial region occupied by an image\n",
    "    * $Q(R_i)$ be a predicate defined over the points in set $R_k$\n",
    "* **Segmentation** is a proces that partitions $R$ into $n$ subregions $R_1, R_2, \\ldots, R_n$ such that:\n",
    "    1. $\\cup_{i=1}^nR_i=R$\n",
    "    2. $R_i$ is a connected set, $i=1, 2, ..., n$\n",
    "        * cannot be divided into two nonempty sets and open in the relative topology represented on the set\n",
    "    3. $R_i\\cap R_j = \\varnothing \\text{ for all } i, j | i\\neq j$\n",
    "    4. $Q(R_i) = \\text{ TRUE for } i=1, 2, \\ldots, n$\n",
    "    5. $Q(R_i\\cup R_j) = \\text{ FALSE for any adjacent region } R_i, R_j$\n",
    "* segmentation algorithms for monochrome images allow boundary detection based ondiscontinuities in intensity\n",
    "    * **edge-based**\n",
    "* **Region-Based** segmentation approaches are based on partitioning an image into regions taht are similar according to a set of predefined criteria"
   ]
  },
  {
   "cell_type": "markdown",
   "metadata": {},
   "source": [
    "## 10.2 - Point, Line, and Edge Detection"
   ]
  },
  {
   "cell_type": "markdown",
   "metadata": {},
   "source": [
    "## 10.3 - Thresholding"
   ]
  },
  {
   "cell_type": "markdown",
   "metadata": {},
   "source": [
    "## 10.4 - Region Based Segmentation\n",
    "* this class of image segmentation tries to find the region values directly\n",
    "\n",
    "### Region Growing\n",
    "* **Region Growing** is a procedure that groups pixels, or subregions, into larger regions based on a predefined criteria for growth\n",
    "    * starts with a set of *seed points*\n",
    "    * grows the seed point by appending neighboring pixels that have predefined properties similar to the seed\n",
    "    * if no a priori knowledge is available, thenthe procedure is to compute the same set of properties at every pixel, and then cluster\n",
    "* descriptors\n",
    "    * properties attached from pixels or groups of pixels that can give information about a region\n",
    "    * can be misleading if used without connectivity properties\n",
    "* a stopping rule needs to be set so that a region does not grow indefinitely\n",
    "    * criteria such as intensity, texture, and color, are local innature and do not take into account the \"history of region growth\"\n",
    "\n",
    "#### basic region-growig algorithm based on 8-connectivity\n",
    "* let:\n",
    "    * $f(x, y)$ be an input image array\n",
    "    * $s(x, y)$ be a **seed array** containing 1s at all locations of seed points, and 0s elsewhere\n",
    "    * $Q$ be a predicate to be applied at each location (x, y)\n",
    "    * $f$ and $s$ be of the same size\n",
    "* find all CCs in $S(x, y)$ and erode each connected coomponent to one pixel. label all such pixels found a 1\n",
    "* form an image $f_q$ suc that, at a pair of coordinates (x, y), let $f_q(x, y)=1$ if the input satisfies $Q$ at those coordinates, otherwise let $f_q(x, y)=0$\n",
    "* let $g$ be an image formed by appending to all seed points in $S$, all the 1-valued points in $f_q$ that are connected to that seed\n",
    "* label each connected component in $g$ with a different region label (1, 2, 3, ...)\n",
    "\n",
    "### Region Splitting and Merging\n",
    "* another method of region growing is to subdivide an image, initially, into an arbitrary amount of disjoint regions, then merge and/or split the regions int an attempt to satisfy the conditions of segmentation stated in section 10.1\n",
    "* one approach is to subdivide an image sucessively into smaller and smaler quadrants such that, for any region $R_i$, $Q(R_i)=TRUE$\n",
    "    * start with an entire region\n",
    "    * if $Q(R)=False$, we divide the image into quadrants, and so on\n",
    "    * can be easily represented by **quadtrees**\n",
    "        * trees in which each node has exactly four descendants\n",
    "* if only splitting is used, the final partition would typically contain adjacent regions with identical properties, this is solved by **merging**\n",
    "    * two regions are merged if they are adjacent and their combined pixels satisfy $Q$, $Q(R_j\\cup R_k)=Q$\n",
    "\n",
    "#### Basic Splitting Merging basic algorithm\n",
    "* at any step\n",
    "    * split any region $R_i$ into four disjoint quadrants for which $Q(R_i)=False$\n",
    "    * when no further splitting is possible, merge ay adjacent regions, $R_j$ and $R_k$ such that $Q(R_j\\cup R_k)=True$\n",
    "    stop when no further merging is possible"
   ]
  },
  {
   "cell_type": "markdown",
   "metadata": {},
   "source": [
    "## 10.5 - Segmentation using Morphological Water Shed"
   ]
  },
  {
   "cell_type": "markdown",
   "metadata": {},
   "source": [
    "## 10.6 - The Use of Motion in Segmentation"
   ]
  },
  {
   "cell_type": "markdown",
   "metadata": {},
   "source": []
  }
 ],
 "metadata": {
  "language_info": {
   "name": "python"
  },
  "orig_nbformat": 4
 },
 "nbformat": 4,
 "nbformat_minor": 2
}
