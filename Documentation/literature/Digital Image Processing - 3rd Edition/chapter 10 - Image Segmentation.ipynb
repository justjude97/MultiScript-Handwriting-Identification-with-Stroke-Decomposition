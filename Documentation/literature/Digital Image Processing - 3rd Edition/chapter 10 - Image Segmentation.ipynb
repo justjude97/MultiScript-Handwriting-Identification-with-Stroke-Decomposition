{
 "cells": [
  {
   "cell_type": "markdown",
   "metadata": {},
   "source": [
    "# Chapter 10 - Image Segmentation\n",
    "* **segmentation** divides an image into its constituent regions or objects. The LOD to which the sudivision is carried out depends on the goal\n",
    "* segmentation of nontrivial images is difficult"
   ]
  },
  {
   "cell_type": "markdown",
   "metadata": {},
   "source": [
    "## 10.1 Fundamentals\n",
    "* Let\n",
    "    * $R$ be the entire spatial region occupied by an image\n",
    "    * $Q(R_i)$ be a predicate defined over the points in set $R_k$\n",
    "* **Segmentation** is a proces that partitions $R$ into $n$ subregions $R_1, R_2, \\ldots, R_n$ such that:\n",
    "    1. $\\cup_{i=1}^nR_i=R$\n",
    "    2. $R_i$ is a connected set, $i=1, 2, ..., n$\n",
    "        * cannot be divided into two nonempty sets and open in the relative topology represented on the set\n",
    "    3. $R_i\\cap R_j = \\varnothing \\text{ for all } i, j | i\\neq j$\n",
    "    4. $Q(R_i) = \\text{ TRUE for } i=1, 2, \\ldots, n$\n",
    "    5. $Q(R_i\\cup R_j) = \\text{ FALSE for any adjacent region } R_i, R_j$\n",
    "* segmentation algorithms for monochrome images allow boundary detection based ondiscontinuities in intensity\n",
    "    * **edge-based**\n",
    "* **Region-Based** segmentation approaches are based on partitioning an image into regions taht are similar according to a set of predefined criteria"
   ]
  },
  {
   "cell_type": "markdown",
   "metadata": {},
   "source": [
    "## 10.2 - Point, Line, and Edge Detection"
   ]
  },
  {
   "cell_type": "markdown",
   "metadata": {},
   "source": [
    "## 10.3 - Thresholding"
   ]
  },
  {
   "cell_type": "markdown",
   "metadata": {},
   "source": [
    "## 10.4 - Region Based Segmentation\n",
    "* this class of image segmentation tries to find the region values directly\n",
    "\n",
    "### Region Growing\n",
    "* **Region Growing** is a procedure that groups pixels, or subregions, into larger regions based on a predefined criteria for growth\n",
    "    * starts with a set of *seed points*\n",
    "    * grows the seed point by appending neighboring pixels that have predefined properties similar to the seed\n",
    "    * if no a priori knowledge is available, thenthe procedure is to compute the same set of properties at every pixel, and then cluster\n",
    "* descriptors\n",
    "    * properties attached from pixels or groups of pixels that can give information about a region\n",
    "    * can be misleading if used without connectivity properties\n",
    "* a stopping rule needs to be set so that a region does not grow indefinitely\n",
    "    * criteria such as intensity, texture, and color, are local innature and do not take into account the \"history of region growth\"\n",
    "\n",
    "#### basic region-growig algorithm based on 8-connectivity\n",
    "* let:\n",
    "    * $f(x, y)$ be an input image array\n",
    "    * $s(x, y)$ be a **seed array** containing 1s at all locations of seed points, and 0s elsewhere\n",
    "    * $Q$ be a predicate to be applied at each location (x, y)\n",
    "    * $f$ and $s$ be of the same size\n",
    "* find all CCs in $S(x, y)$ and erode each connected coomponent to one pixel. label all such pixels found a 1\n",
    "* form an image $f_q$ suc that, at a pair of coordinates (x, y), let $f_q(x, y)=1$ if the input satisfies $Q$ at those coordinates, otherwise let $f_q(x, y)=0$\n",
    "* let $g$ be an image formed by appending to all seed points in $S$, all the 1-valued points in $f_q$ that are connected to that seed\n",
    "* label each connected component in $g$ with a different region label (1, 2, 3, ...)\n",
    "\n",
    "### Region Splitting and Merging\n",
    "* another method of region growing is to subdivide an image, initially, into an arbitrary amount of disjoint regions, then merge and/or split the regions int an attempt to satisfy the conditions of segmentation stated in section 10.1\n",
    "* one approach is to subdivide an image sucessively into smaller and smaler quadrants such that, for any region $R_i$, $Q(R_i)=TRUE$\n",
    "    * start with an entire region\n",
    "    * if $Q(R)=False$, we divide the image into quadrants, and so on\n",
    "    * can be easily represented by **quadtrees**\n",
    "        * trees in which each node has exactly four descendants\n",
    "* if only splitting is used, the final partition would typically contain adjacent regions with identical properties, this is solved by **merging**\n",
    "    * two regions are merged if they are adjacent and their combined pixels satisfy $Q$, $Q(R_j\\cup R_k)=Q$\n",
    "\n",
    "#### Basic Splitting Merging basic algorithm\n",
    "* at any step\n",
    "    * split any region $R_i$ into four disjoint quadrants for which $Q(R_i)=False$\n",
    "    * when no further splitting is possible, merge ay adjacent regions, $R_j$ and $R_k$ such that $Q(R_j\\cup R_k)=True$\n",
    "    stop when no further merging is possible"
   ]
  },
  {
   "cell_type": "markdown",
   "metadata": {},
   "source": [
    "## 10.5 - Segmentation using Morphological Water Shed\n",
    "* uses morphological dilation to emulate a \"watershed\"\n",
    "* an image is considered as a three-dimensional object\n",
    "    * x and y coordinates for pixels\n",
    "    * the intensity of the pixels at a given point, $f(x, y)$\n",
    "* three types of points considered\n",
    "    1. points belonging to a regional minimum\n",
    "    2. points at which a drop of water, if placed at the location of those points, wwould fall with a certainty to a single minimum\n",
    "        * these points satisfy the condition of being a **catchment basin** or **watershed**\n",
    "    3. points which would be equally likely to fall to more than one such minimum\n",
    "        * these points satisfy the condition of being a **watershed line** or **divide line**\n",
    "* goal: to find the watershed lines\n",
    "* general process\n",
    "    * holes are punched at each regional minimum\n",
    "    * \"water\" is allowed to rise the the holes at a uniform rate\n",
    "    * the the pool of water from two catchment basins are about to merge, a \"dam\" is built to prevent the merging\n",
    "    * eventually only the tops of the dams would be visible above the water line\n",
    "    * the edges of an image are imagined too be enclosed by dams of height greater than the highest possible mountian (highest, or brightest possible intensity value in the image)\n",
    "    * flooding process ends when the highest intensity value is reached, at which the final dams correspond to the watershed lines\n",
    "* the watershed algorithm is genrally applied to the gradients of images, rather than the images themselves\n",
    "\n",
    "### Dam Construction\n",
    "* dam construction is based on binary images\n",
    "* the simplest way to construct dams separating sets of binary points is through mrophological dilation\n",
    "* counted through connected components. when the number fo connected components decreases it means that two watersheds in the image have merged\n",
    "    * the original components from the previous step ($n-1$) can be obtained by performing an *AND* operation between the two iamges"
   ]
  },
  {
   "cell_type": "markdown",
   "metadata": {},
   "source": [
    "## 10.6 - The Use of Motion in Segmentation\n",
    "* in images, motion arises from a relative displacement between the sensing system and the scene being viewed\n",
    "* can be used in video segmentation?\n",
    "\n",
    "### Motion Segmentation in the Spatial Domain\n",
    "* simple method to detect changes between two image frames\n",
    "    * given $f(x, y, t_i)$ and $f(x, y, t_j)$ taken at times $t_i$ and $t_j$\n",
    "    * you can detect changes by comparing the image pixel by pixel, the **difference image**\n",
    "    * result is that staionary elements are removed, and moving objects leave some residual difference in the output image (can be set to 1, to represent detected motion)\n",
    "    * difference image definition: $d_{i, j}=\\begin{cases}1 & \\text{if} & \\lvert f(x, y, t_i)-f(x, y, t_j) \\rvert\\lt T \\\\ 0 & \\text{otherwise}\\end{cases}$\n",
    "    * where:\n",
    "        * $T$ is some specified threshold, so that the difference is \"appreciably different\"\n",
    "    * pixel locations with a value of 1 are considered the result of object motion\n",
    "\n",
    "...\n",
    "\n",
    "interesting, but is mainly considered with sequences of images\n",
    "\n"
   ]
  },
  {
   "cell_type": "markdown",
   "metadata": {},
   "source": []
  }
 ],
 "metadata": {
  "language_info": {
   "name": "python"
  },
  "orig_nbformat": 4
 },
 "nbformat": 4,
 "nbformat_minor": 2
}
