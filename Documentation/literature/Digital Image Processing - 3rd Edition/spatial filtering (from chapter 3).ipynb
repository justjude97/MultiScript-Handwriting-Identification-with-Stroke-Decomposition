{
 "cells": [
  {
   "cell_type": "markdown",
   "metadata": {},
   "source": [
    "# Chapter 3 - Intensity Transformations and Spatial Filtering\n",
    "\n",
    "..."
   ]
  },
  {
   "cell_type": "markdown",
   "metadata": {},
   "source": [
    "## 3.4 - Fundamentals of Spatial Filtering\n",
    "\n",
    "NOTE: this chapter mostly deals with the use of spatial filters fro image enhancement\n",
    "\n",
    "* **spatial filtering** is the principle tool of a wide range of image processing (and machine learning) applicaitons\n",
    "    * \"filter\" is borrowed from frequency domain processing, meaning accepting (passing) or rejecting certain frequency components\n",
    "    * spatial filters are also called spatial masks, kernels, templates, windows, etc\n",
    "* the mechanics of spatial filtering\n",
    "    * a spatial filter consist of a:\n",
    "        1. **neighborhood** \n",
    "        2. a *predefined operation* that is performed on the image pixels\n",
    "    * the output of a filtering operation is a single pixel at the center of the neighborhood\n",
    "    * filters can be linear or non linear if the operation performed on the image is linear or not\n",
    "* linear filter example (3x3)\n",
    "    * at any point $(x, y)$ in the image, the repsonse of $g(x, y)$ of the filter is the sum of products of the filter coefficients\n",
    "    * $g(x, y)=w(-1, -1)f(x-1, y-1)+w(-1, 0)f(x-1, y)+\\ldots +w(0, 0)f(x, y)+\\ldots +w(1, 1)f(x+1, y+1)$\n",
    "        * where:\n",
    "            * $w$ is the filter which consists of a matrix of coefficients\n",
    "            * $f$ is the image around which a subimage centered on $x, y$ is processed\n",
    "        * the center pixel aligns with the pixel at the location $(x, y)$\n",
    "    * in general: $g(x, y)=\\sum_{s=-a}^a\\sum_{t=-b}^bw(s, t)f(x+s, y+t)$\n",
    "        * where:\n",
    "            * $a=(m-1)/2$\n",
    "            * $b=(n-1)/2$\n"
   ]
  },
  {
   "cell_type": "markdown",
   "metadata": {},
   "source": [
    "* spatial correlation and convolution\n",
    "    * **correlation** is th process of moving a filter mask over the image and computing the sum of products at each location\n",
    "        * equation: $w(x, y)\\star \\text{(white star)} f(x, y)=\\sum_{s=-a}^a\\sum_{t=-b}^bw(s, t)f(x+s, y+t)$\n",
    "        * a function of *displacement* of the filter, meaning the first value of the correlation corresponds to ero displacement of the filter\n",
    "        * correlating a filter $w$ with a function that contains all zeros and a single 1 yields a copy of $w$ but rotated 180 degrees (the above function is called a dispcrete unit impulse)\n",
    "        * correlations can find matches (chapter 12) in images\n",
    "    * **convolution** is the same process, but the filter is first rotated by 180 degrees (flipped horizontally)\n",
    "        * equation: $w(x, y)\\star f(x, y)=\\sum_{s=-a}^a\\sum_{t=-b}^bw(s, t)f(x-s, y-t)$\n",
    "            * the signs are flipped in $f$ to 'rotate' the subimage contained there\n",
    "        * a convolution with a unit impulse (above) yields a copy of the convolutional function at that unit impulse\n",
    "        * the pre-rotation of the filter is to adjust for the 180 degree flipping. it makes no difference on which function we rotate\n",
    "    * padding is often used to preserve image size\n",
    "        * if the filter is of size $m$, we need $m-1$ padding elements on either side"
   ]
  },
  {
   "cell_type": "markdown",
   "metadata": {},
   "source": [
    "* Vector Representation of Linear Filtering\n",
    "    * vector representation: $R=w_1z_1+\\ldots +w_{mn}z{mn}=\\sum_{k=1}^{mn}w_kz_k=w^Tz$\n",
    "* generating spatial filter masks\n",
    "    * the most we can do with a linear filter is to implement a sum of products\n",
    "        * average: $R=\\frac{1}{mn}\\sum_{i=1}^{mn}z_i$\n",
    "            * coefficients of filter all $\\frac{1}{mn}$\n",
    "        * gaussian filter\n",
    "    * generating a non-linear filter requires that we specify the size of a neighborhood and the operation(s) to be performed on the image pixels"
   ]
  }
 ],
 "metadata": {
  "language_info": {
   "name": "python"
  },
  "orig_nbformat": 4
 },
 "nbformat": 4,
 "nbformat_minor": 2
}
